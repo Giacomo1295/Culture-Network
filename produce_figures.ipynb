{
 "cells": [
  {
   "cell_type": "markdown",
   "metadata": {},
   "source": [
    "PLOT THREE CONFIRMATION BIAS RESULTS"
   ]
  },
  {
   "cell_type": "code",
   "execution_count": null,
   "metadata": {
    "vscode": {
     "languageId": "python"
    }
   },
   "outputs": [],
   "source": [
    "from package.plotting_data import add_green_plot_alt\n",
    "fileName_Figure_22 = add_green_plot_alt.main(\n",
    "    fileName_list = [\"results/green_influencers_culture_four_alt_23_03_50__18_02_2023\",\"results/green_influencers_culture_four_alt_23_06_54__18_02_2023\"],\n",
    "    latex_bool = 1\n",
    ")\n",
    "\n",
    "\n"
   ]
  },
  {
   "cell_type": "markdown",
   "metadata": {},
   "source": [
    "GREEN SENSITIVITY ANALYSIS"
   ]
  },
  {
   "cell_type": "code",
   "execution_count": null,
   "metadata": {
    "vscode": {
     "languageId": "python"
    }
   },
   "outputs": [],
   "source": [
    "from package.plotting_data import sensitivity_analysis_green_plot\n",
    "sensitivity_analysis_green_plot.main(    \n",
    "    fileName = \"results/sensitivity_analysis_09_49_01__16_02_2023\",\n",
    "    latex_bool = True\n",
    "    )"
   ]
  },
  {
   "cell_type": "markdown",
   "metadata": {},
   "source": [
    "REMOVE THE CONSENSUS FORMATION"
   ]
  },
  {
   "cell_type": "code",
   "execution_count": null,
   "metadata": {
    "vscode": {
     "languageId": "python"
    }
   },
   "outputs": [],
   "source": [
    "from package.generating_data import consensus_formation_gen\n",
    "fileName_Figure_30 = consensus_formation_gen.main(\n",
    "    BASE_PARAMS_LOAD = \"package/constants/base_params_consensus.json\",\n",
    "    param_min = 0.05,\n",
    "    param_max = 1,\n",
    "    reps = 8,\n",
    "    )"
   ]
  },
  {
   "cell_type": "code",
   "execution_count": null,
   "metadata": {
    "vscode": {
     "languageId": "python"
    }
   },
   "outputs": [],
   "source": [
    "fileName_Figure_30 = \"results/consensus_formation_16_44_53__16_02_2023\""
   ]
  },
  {
   "cell_type": "code",
   "execution_count": null,
   "metadata": {
    "vscode": {
     "languageId": "python"
    }
   },
   "outputs": [],
   "source": [
    "from package.plotting_data import consensus_formation_plot\n",
    "consensus_formation_plot.main(    \n",
    "    fileName = fileName_Figure_30,\n",
    "    latex_bool = 1\n",
    "    )"
   ]
  },
  {
   "cell_type": "code",
   "execution_count": null,
   "metadata": {
    "vscode": {
     "languageId": "python"
    }
   },
   "outputs": [],
   "source": [
    "fileName_Figure_30_low = \"results/consensus_formation_16_10_31__15_02_2023\"\n",
    "fileName_Figure_30_high = \"results/consensus_formation_16_12_24__15_02_2023\""
   ]
  },
  {
   "cell_type": "code",
   "execution_count": null,
   "metadata": {
    "vscode": {
     "languageId": "python"
    }
   },
   "outputs": [],
   "source": [
    "from package.plotting_data import consensus_formation_two_theta_plot\n",
    "consensus_formation_two_theta_plot.main(    \n",
    "    fileName_low_theta = fileName_Figure_30_low,\n",
    "    fileName_high_theta = fileName_Figure_30_high,\n",
    "    latex_bool = 1\n",
    "    )"
   ]
  },
  {
   "cell_type": "markdown",
   "metadata": {},
   "source": [
    "A WAY OF LOOKING AT ADDING GREENS 4 PLOT"
   ]
  },
  {
   "cell_type": "code",
   "execution_count": null,
   "metadata": {
    "scrolled": true,
    "vscode": {
     "languageId": "python"
    }
   },
   "outputs": [
    {
     "name": "stdout",
     "output_type": "stream",
     "text": [
      "fileName: results/green_influencers_culture_four_alt_16_20_15__20_02_2023\n"
     ]
    },
    {
     "name": "stderr",
     "output_type": "stream",
     "text": [
      "[Parallel(n_jobs=4)]: Using backend LokyBackend with 4 concurrent workers.\n",
      "[Parallel(n_jobs=4)]: Done   1 tasks      | elapsed:    4.2s\n",
      "[Parallel(n_jobs=4)]: Done   2 out of   4 | elapsed:    4.3s remaining:    4.3s\n",
      "[Parallel(n_jobs=4)]: Done   4 out of   4 | elapsed:    4.3s remaining:    0.0s\n",
      "[Parallel(n_jobs=4)]: Done   4 out of   4 | elapsed:    4.3s finished\n",
      "[Parallel(n_jobs=4)]: Using backend LokyBackend with 4 concurrent workers.\n",
      "[Parallel(n_jobs=4)]: Done   1 tasks      | elapsed:    1.8s\n",
      "[Parallel(n_jobs=4)]: Done   2 out of   4 | elapsed:    1.9s remaining:    1.9s\n",
      "[Parallel(n_jobs=4)]: Done   4 out of   4 | elapsed:    1.9s remaining:    0.0s\n",
      "[Parallel(n_jobs=4)]: Done   4 out of   4 | elapsed:    1.9s finished\n",
      "[Parallel(n_jobs=4)]: Using backend LokyBackend with 4 concurrent workers.\n",
      "[Parallel(n_jobs=4)]: Done   1 tasks      | elapsed:    1.6s\n",
      "[Parallel(n_jobs=4)]: Done   2 out of   4 | elapsed:    1.6s remaining:    1.6s\n",
      "[Parallel(n_jobs=4)]: Done   4 out of   4 | elapsed:    1.7s remaining:    0.0s\n",
      "[Parallel(n_jobs=4)]: Done   4 out of   4 | elapsed:    1.7s finished\n",
      "[Parallel(n_jobs=4)]: Using backend LokyBackend with 4 concurrent workers.\n",
      "[Parallel(n_jobs=4)]: Done   1 tasks      | elapsed:    1.6s\n",
      "[Parallel(n_jobs=4)]: Done   2 out of   4 | elapsed:    1.6s remaining:    1.6s\n",
      "[Parallel(n_jobs=4)]: Done   4 out of   4 | elapsed:    1.7s remaining:    0.0s\n",
      "[Parallel(n_jobs=4)]: Done   4 out of   4 | elapsed:    1.7s finished\n"
     ]
    },
    {
     "name": "stdout",
     "output_type": "stream",
     "text": [
      "DONE, (4, 10) (4, 10)\n",
      "LETS GET SAVIN\n"
     ]
    },
    {
     "name": "stderr",
     "output_type": "stream",
     "text": [
      "The PostScript backend does not support transparency; partially transparent artists will be rendered opaque.\n",
      "The PostScript backend does not support transparency; partially transparent artists will be rendered opaque.\n"
     ]
    }
   ],
   "source": [
    "from package.generating_data import add_green_gen_alt\n",
    "fileName_Figure_22 = add_green_gen_alt.main(\n",
    "    RUN = 1,\n",
    "    fileName = \"results/green_influencers_culture_four_alt_12_01_06__17_02_2023\",\n",
    "    BASE_PARAMS_LOAD = \"package/constants/base_params_alt.json\",\n",
    "    param_vary_reps = 4,\n",
    "    green_N = 20\n",
    ")"
   ]
  },
  {
   "cell_type": "markdown",
   "metadata": {},
   "source": [
    "In the following notebook is contained the code required to reproduce each of the figures found in the paper.\n",
    "\n",
    "Figure 2: Discount array \"$D_t$\"."
   ]
  },
  {
   "cell_type": "code",
   "execution_count": null,
   "metadata": {
    "vscode": {
     "languageId": "python"
    }
   },
   "outputs": [],
   "source": [
    "from package.plotting_data import hyperbolic_discounting_example\n",
    "hyperbolic_discounting_example.main()"
   ]
  },
  {
   "cell_type": "markdown",
   "metadata": {},
   "source": [
    "Figure 4: Time series of individual’s environmental identity.\n",
    "\n",
    "First we generate the data from package.the three cases A, B and C."
   ]
  },
  {
   "cell_type": "code",
   "execution_count": null,
   "metadata": {
    "vscode": {
     "languageId": "python"
    }
   },
   "outputs": [],
   "source": [
    "from package.generating_data import oneD_param_sweep_gen\n",
    "fileName_Figure_4 = oneD_param_sweep_gen.main(\n",
    "    RUN_TYPE = 0,\n",
    "    BASE_PARAMS_LOAD = \"package/constants/base_params.json\"\n",
    "    )"
   ]
  },
  {
   "cell_type": "markdown",
   "metadata": {},
   "source": [
    "Next we plot the time series"
   ]
  },
  {
   "cell_type": "code",
   "execution_count": null,
   "metadata": {
    "vscode": {
     "languageId": "python"
    }
   },
   "outputs": [],
   "source": [
    "from package.plotting_data import oneD_param_sweep_plot\n",
    "oneD_param_sweep_plot.main(    \n",
    "    fileName = fileName_Figure_4,\n",
    "    GRAPH_TYPE = 0\n",
    "    )"
   ]
  },
  {
   "cell_type": "markdown",
   "metadata": {},
   "source": [
    "Figure 5: Bifurcation diagram.\n",
    "\n",
    "WARNING: As there are a large number of runs in the data used to generate this plot it will take a considerable time. We cover 1000 parameter combinations. Can reduce \"reps\" to decrease this for lower resolution results."
   ]
  },
  {
   "cell_type": "code",
   "execution_count": null,
   "metadata": {
    "vscode": {
     "languageId": "python"
    }
   },
   "outputs": [],
   "source": [
    "from package.generating_data import bifurcation_gen\n",
    "fileName_Figure_5 = bifurcation_gen.main(\n",
    "    BASE_PARAMS_LOAD = \"package/constants/base_params.json\",\n",
    "    param_min = 0.0,\n",
    "    param_max = 100.0,\n",
    "    reps = 500,\n",
    "    bandwidth = 0.01\n",
    "    )"
   ]
  },
  {
   "cell_type": "markdown",
   "metadata": {},
   "source": [
    "Alternatively load in data from package.another run"
   ]
  },
  {
   "cell_type": "code",
   "execution_count": null,
   "metadata": {
    "vscode": {
     "languageId": "python"
    }
   },
   "outputs": [],
   "source": [
    "fileName_Figure_5 = \"results/bifurcation_SINGLE_COMPARE_IDENTITY_22_47_05__14_02_2023\""
   ]
  },
  {
   "cell_type": "markdown",
   "metadata": {},
   "source": [
    "Next plot the results for both cases."
   ]
  },
  {
   "cell_type": "code",
   "execution_count": null,
   "metadata": {
    "vscode": {
     "languageId": "python"
    }
   },
   "outputs": [],
   "source": [
    "from package.plotting_data import bifurcation_plot\n",
    "bifurcation_plot.main(    \n",
    "    fileName = fileName_Figure_5,\n",
    "    bifurcation_plot_data_analysis = 0,\n",
    "    latex_bool = 1\n",
    "    )"
   ]
  },
  {
   "cell_type": "markdown",
   "metadata": {},
   "source": [
    "Figure 6: Sobol sensitivity analysis of model parameters.\n",
    "\n",
    "WARNING: As there are a large number of runs in the data used to generate this plot it will take a considerable time. In the case of the Figure 7 we ran 76800 experiments, this took approximately 1 week on a server with 40 cores. Reduce \"N_samples\" to decrease run time, must be a power of two."
   ]
  },
  {
   "cell_type": "code",
   "execution_count": null,
   "metadata": {
    "vscode": {
     "languageId": "python"
    }
   },
   "outputs": [],
   "source": [
    "from package.generating_data import sensitivity_analysis_gen\n",
    "fileName_Figure_6 = sensitivity_analysis_gen.main(\n",
    "    N_samples = 1024,\n",
    "    BASE_PARAMS_LOAD = \"package/constants/base_params.json\",\n",
    "    VARIABLE_PARAMS_LOAD = \"package/constants/variable_parameters_dict_SA.json\"\n",
    ")"
   ]
  },
  {
   "cell_type": "code",
   "execution_count": null,
   "metadata": {
    "vscode": {
     "languageId": "python"
    }
   },
   "outputs": [],
   "source": [
    "fileName_Figure_6 = \"results/...\""
   ]
  },
  {
   "cell_type": "code",
   "execution_count": null,
   "metadata": {
    "vscode": {
     "languageId": "python"
    }
   },
   "outputs": [],
   "source": [
    "from package.plotting_data import sensitivity_analysis_plot\n",
    "sensitivity_analysis_plot.main(    \n",
    "    fileName = fileName_Figure_6,\n",
    "    )"
   ]
  },
  {
   "cell_type": "markdown",
   "metadata": {},
   "source": [
    "Figure 7: Three scenarios of differing identity updating frequency."
   ]
  },
  {
   "cell_type": "code",
   "execution_count": null,
   "metadata": {
    "vscode": {
     "languageId": "python"
    }
   },
   "outputs": [],
   "source": [
    "from package.generating_data import identity_frequency_gen\n",
    "fileName_Figure_7 = identity_frequency_gen.main(\n",
    "    BASE_PARAMS_LOAD = \"package/constants/base_params_identity_frequency.json\"\n",
    ")"
   ]
  },
  {
   "cell_type": "code",
   "execution_count": null,
   "metadata": {
    "vscode": {
     "languageId": "python"
    }
   },
   "outputs": [],
   "source": [
    "\n",
    "from package.plotting_data import identity_frequency_plot\n",
    "identity_frequency_plot.main(    \n",
    "    fileName = fileName_Figure_7,\n",
    "    alpha_change_plot = 1,\n",
    "    bandwidth = 0.01,\n",
    "    )"
   ]
  },
  {
   "cell_type": "markdown",
   "metadata": {},
   "source": [
    "Figure 8: Decreasing initial identity homophily results in faster consensus formation in the network."
   ]
  },
  {
   "cell_type": "code",
   "execution_count": null,
   "metadata": {
    "vscode": {
     "languageId": "python"
    }
   },
   "outputs": [],
   "source": [
    "from package.generating_data import oneD_param_sweep_gen\n",
    "fileName_Figure_8 = oneD_param_sweep_gen.main( \n",
    "    RUN_TYPE = 1,\n",
    "    BASE_PARAMS_LOAD = \"package/constants/base_params_homophily.json\"\n",
    "    )"
   ]
  },
  {
   "cell_type": "code",
   "execution_count": null,
   "metadata": {
    "vscode": {
     "languageId": "python"
    }
   },
   "outputs": [],
   "source": [
    "from package.plotting_data import oneD_param_sweep_plot\n",
    "oneD_param_sweep_plot.main(    \n",
    "    fileName = fileName_Figure_8,\n",
    "    GRAPH_TYPE = 1,\n",
    "    )"
   ]
  },
  {
   "cell_type": "markdown",
   "metadata": {},
   "source": [
    "Figure 9: Mean emissions change of an individual between cases with and without green influencers\n",
    "\n",
    "WARNING: As there are a large number of runs in the data used to generate this plot it will take a considerable time. We cover 400 parameter combinations, averaging over 20 different stochastic inital conditions for a total of 8000 experiments. First run for low confirmation bias, then high. We also set the degree of polarisation of the attitude distribution, as we vary the mean, the greater \"sum_a_b\" the less polarised."
   ]
  },
  {
   "cell_type": "code",
   "execution_count": null,
   "metadata": {
    "vscode": {
     "languageId": "python"
    }
   },
   "outputs": [],
   "source": [
    "from package.generating_data import adding_green_influencers_gen\n",
    "fileName_Figure_9_low = adding_green_influencers_gen.main(\n",
    "    BASE_PARAMS_LOAD = \"package/constants/base_params_add_greens.json\",\n",
    "    green_N = 20,\n",
    "    mean_list_min = 0.01,\n",
    "    mean_list_max = 0.99,\n",
    "    mean_list_reps = 200,\n",
    "    sum_a_b = 4,\n",
    "    confirmation_bias = 5\n",
    ")\n",
    "\n",
    "fileName_Figure_9_high = adding_green_influencers_gen.main(\n",
    "    BASE_PARAMS_LOAD = \"package/constants/base_params_add_greens.json\",\n",
    "    green_N = 20,\n",
    "    mean_list_min = 0.01,\n",
    "    mean_list_max = 0.99,\n",
    "    mean_list_reps = 200,\n",
    "    sum_a_b = 4,\n",
    "    confirmation_bias = 20\n",
    ")"
   ]
  },
  {
   "cell_type": "code",
   "execution_count": null,
   "metadata": {
    "vscode": {
     "languageId": "python"
    }
   },
   "outputs": [],
   "source": [
    "fileName_Figure_9_low = \"results/...\"\n",
    "fileName_Figure_9_high = \"results/...\""
   ]
  },
  {
   "cell_type": "code",
   "execution_count": null,
   "metadata": {
    "vscode": {
     "languageId": "python"
    }
   },
   "outputs": [],
   "source": [
    "from package.plotting_data import adding_green_influencers_plot\n",
    "adding_green_influencers_plot.main(    \n",
    "    fileName_add_greens_theta_one = fileName_Figure_9_low,\n",
    "    fileName_add_greens_theta_two = fileName_Figure_9_high\n",
    "    )    "
   ]
  },
  {
   "cell_type": "markdown",
   "metadata": {},
   "source": [
    "Figure 10: The beta distribution "
   ]
  },
  {
   "cell_type": "code",
   "execution_count": null,
   "metadata": {
    "vscode": {
     "languageId": "python"
    }
   },
   "outputs": [],
   "source": [
    "from package.plotting_data import init_distribution_example\n",
    "init_distribution_example.main(\n",
    "    a_b_combo_list = [[5,5],[2,3],[1,1],[0.1,0.1]],\n",
    "    )"
   ]
  },
  {
   "cell_type": "markdown",
   "metadata": {},
   "source": [
    "Figure 11: The initial distribution of individuals’ attitudes correlates strongly with the total societal emissions per agent and behaviour.\n",
    "\n",
    "WARNING: As there are a large number of runs in the data used to generate this plot it will take a considerable time. We cover 4096 parameter combinations, averaging over 5 different stochastic inital conditions for a total of 20480 experiments."
   ]
  },
  {
   "cell_type": "code",
   "execution_count": null,
   "metadata": {
    "vscode": {
     "languageId": "python"
    }
   },
   "outputs": [],
   "source": [
    "from package.generating_data import twoD_param_sweep_gen\n",
    "fileName_Figure_11 = twoD_param_sweep_gen.main(\n",
    "    BASE_PARAMS_LOAD = \"package/constants/base_params.json\",\n",
    "    VARIABLE_PARAMS_LOAD = \"package/constants/variable_parameters_dict_2D.json\"\n",
    ")"
   ]
  },
  {
   "cell_type": "code",
   "execution_count": null,
   "metadata": {
    "vscode": {
     "languageId": "python"
    }
   },
   "outputs": [],
   "source": [
    "fileName_Figure_11 = \"results/...\""
   ]
  },
  {
   "cell_type": "code",
   "execution_count": null,
   "metadata": {
    "vscode": {
     "languageId": "python"
    }
   },
   "outputs": [],
   "source": [
    "from package.plotting_data import twoD_param_sweep_plot\n",
    "twoD_param_sweep_plot.main(    \n",
    "    fileName = fileName_Figure_11,\n",
    "    levels = 10,\n",
    "    )"
   ]
  },
  {
   "cell_type": "markdown",
   "metadata": {},
   "source": [
    "Figure 12: Within \"identity bubbles\" there is uniform weighting amongst neighbours.\n",
    "\n",
    "WARNING: Need to run the data generation from package.Figure 7"
   ]
  },
  {
   "cell_type": "code",
   "execution_count": null,
   "metadata": {
    "vscode": {
     "languageId": "python"
    }
   },
   "outputs": [],
   "source": [
    "from package.plotting_data import identity_frequency_plot\n",
    "identity_frequency_plot.main(    \n",
    "    fileName = fileName_Figure_7,#Load the data used from package.Figure 7\n",
    "    data_analysis_clusters = 1,\n",
    "    micro_clusters_plot = 1,\n",
    "    )"
   ]
  }
 ],
 "metadata": {
  "kernelspec": {
   "display_name": "venv",
   "language": "python",
   "name": "venv"
  },
  "vscode": {
   "interpreter": {
    "hash": "0c11d44ea05e479bceb3238d6d6267ba70621afd7873ac8a7cdcef5505efeee8"
   }
  }
 },
 "nbformat": 4,
 "nbformat_minor": 2
}
