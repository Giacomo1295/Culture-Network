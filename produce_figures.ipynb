{
 "cells": [
  {
   "cell_type": "markdown",
   "metadata": {},
   "source": [
    "GREEN SENSITIVITY ANALYSIS"
   ]
  },
  {
   "cell_type": "code",
   "execution_count": null,
   "metadata": {},
   "outputs": [],
   "source": [
    "from package.plotting_data import sensitivity_analysis_green_plot\n",
    "sensitivity_analysis_green_plot.main(    \n",
    "    fileName = \"results/sensitivity_analysis_09_49_01__16_02_2023\",\n",
    "    latex_bool = True\n",
    "    )"
   ]
  },
  {
   "cell_type": "markdown",
   "metadata": {},
   "source": [
    "REMOVE THE CONSENSUS FORMATION"
   ]
  },
  {
   "cell_type": "code",
   "execution_count": null,
   "metadata": {},
   "outputs": [],
   "source": [
    "from package.generating_data import consensus_formation_gen\n",
    "fileName_Figure_30 = consensus_formation_gen.main(\n",
    "    BASE_PARAMS_LOAD = \"package/constants/base_params_consensus.json\",\n",
    "    param_min = 0.05,\n",
    "    param_max = 1,\n",
    "    reps = 8,\n",
    "    )"
   ]
  },
  {
   "cell_type": "code",
   "execution_count": null,
   "metadata": {},
   "outputs": [],
   "source": [
    "fileName_Figure_30 = \"results/consensus_formation_16_44_53__16_02_2023\""
   ]
  },
  {
   "cell_type": "code",
   "execution_count": null,
   "metadata": {},
   "outputs": [],
   "source": [
    "from package.plotting_data import consensus_formation_plot\n",
    "consensus_formation_plot.main(    \n",
    "    fileName = fileName_Figure_30,\n",
    "    latex_bool = 1\n",
    "    )"
   ]
  },
  {
   "cell_type": "code",
   "execution_count": null,
   "metadata": {},
   "outputs": [],
   "source": [
    "fileName_Figure_30_low = \"results/consensus_formation_16_10_31__15_02_2023\"\n",
    "fileName_Figure_30_high = \"results/consensus_formation_16_12_24__15_02_2023\""
   ]
  },
  {
   "cell_type": "code",
   "execution_count": null,
   "metadata": {},
   "outputs": [],
   "source": [
    "from package.plotting_data import consensus_formation_two_theta_plot\n",
    "consensus_formation_two_theta_plot.main(    \n",
    "    fileName_low_theta = fileName_Figure_30_low,\n",
    "    fileName_high_theta = fileName_Figure_30_high,\n",
    "    latex_bool = 1\n",
    "    )"
   ]
  },
  {
   "cell_type": "markdown",
   "metadata": {},
   "source": [
    "A WAY OF LOOKING AT ADDING GREENS 4 PLOT"
   ]
  },
  {
   "cell_type": "code",
   "execution_count": 1,
   "metadata": {
    "scrolled": true
   },
   "outputs": [
    {
     "name": "stdout",
     "output_type": "stream",
     "text": [
      "fileName: results/green_influencers_culture_four_alt_21_43_48__18_02_2023\n",
      "(4, 4)\n",
      "BEFORE IT {164: 1.9080213514781141, 119: 2.5794621952207493, 34: 2.8509993155802693, 71: 2.5377445792370508, 131: 2.160625776496626, 7: 2.3996861017545443, 50: 1.7761888477023076, 46: 2.312645187970336, 97: 2.0871630441187943, 166: 2.403083324070025, 144: 2.40392166517709, 191: 2.1262415483588066, 171: 2.1910680671138385, 41: 2.3038863308450135, 198: 2.8439468239343544, 10: 2.5307415487412492, 22: 2.5263254472123187, 167: 2.3039986499203824, 3: 2.4780787282181675, 190: 2.6424422554041316, 24: 2.2428963499785746, 115: 2.0370546889853234, 99: 1.9371709474333227, 170: 2.1804253826061686, 67: 2.2721558885393387, 78: 2.2650942256147126, 20: 2.5335522748816093, 141: 2.1053542356740733, 157: 1.8646485866709106, 17: 2.3104590481027234, 165: 2.0704627001673463, 132: 2.6734709624295356, 102: 2.256711772091977, 172: 2.1320810643318366, 62: 2.2800547269213185, 158: 2.562938185261018, 12: 2.1484144049765295, 199: 2.5044978347985314, 103: 2.2218575651038197, 47: 2.0077009392737186, 29: 2.12891628707811, 196: 2.6995510345366647, 116: 2.0300058918279924, 137: 2.235975325027205, 146: 2.471126849479006, 176: 2.4593140701094995, 182: 2.2644215950692823, 59: 2.7512941724127025, 124: 1.8017819887078383, 51: 1.7246563095728278, 53: 2.5531082604144597, 87: 2.2956454396677595, 118: 1.9352840907531772, 93: 2.5917278415891865, 90: 2.38664926826507, 31: 2.1620141016598162, 25: 2.354428897857212, 140: 1.9052890022741453, 21: 1.7714277524479416, 169: 2.549188489001593, 197: 2.3290037251695788, 117: 2.1290993412442614, 69: 2.389071707031029, 128: 2.839332313939469, 174: 2.216739829373518, 75: 2.3173756065930498, 150: 1.7731085543061682, 154: 2.7423327645510045, 136: 2.385283278423868, 127: 2.1266535476216557, 76: 1.9747481937922324, 14: 2.2386644357005947, 138: 2.1411803841431896, 54: 2.1759626931433838, 35: 2.2982676178133774, 32: 2.0224460589802193, 139: 2.084181413081885, 56: 2.2408511856680695, 15: 2.3228654307717616, 134: 2.2340766958553537, 95: 1.9806298506674374, 80: 1.8261264888521782, 13: 1.9203154573968078, 178: 2.260477560784304, 120: 2.29554835937413, 179: 1.8347813868608134, 113: 2.1108373018474658, 151: 2.1503769639338994, 48: 2.293324237116662, 143: 1.9580307837862034, 33: 1.9151116566223734, 30: 2.102547363822231, 159: 2.182085943572459, 193: 2.14726973347062, 100: 1.8470939301520815, 168: 2.0671982639821334, 45: 2.075701910675967, 109: 1.7657556243380148, 92: 2.538106152003368, 60: 2.452119669512106, 98: 2.1211128025466612, 84: 1.9643614032028154, 123: 2.337411467320167, 1: 2.2496397469386795, 135: 1.9993653930658617, 36: 2.4620369648553626, 175: 2.526332677986753, 161: 2.483782645241651, 94: 2.507996345399406, 68: 2.2757604640044464, 23: 2.2992994748977877, 105: 2.736812367351863, 61: 2.2243882789486276, 106: 2.5135116162724582, 195: 2.1934409687323377, 147: 1.8742448150328677, 192: 2.2469142257451953, 43: 2.4188163513240837, 185: 2.6656119546997967, 183: 2.386158463942032, 173: 2.33129965781763, 9: 2.130044598802007, 121: 2.1696416948794117, 16: 1.914069128538856, 160: 2.01393972717619, 155: 2.510632009750237, 37: 2.4434179204590953, 42: 2.772855571956037, 26: 2.057641888456818, 188: 2.102853942723227, 152: 2.4970779813346597, 57: 2.2138867659239545, 88: 2.4254300142265377, 194: 2.006798747066189, 77: 2.6017054551545553, 104: 2.589209309186667, 8: 2.527591924499096, 187: 2.700819363730543, 19: 2.0447921602550503, 5: 2.1292873921687847, 101: 2.160597211521112, 73: 2.4993862012494903, 96: 2.114327173238909, 49: 2.333483372682611, 129: 2.011403671767024, 85: 2.265584250174071, 156: 2.3946173095154792, 55: 1.9943388520676586, 110: 2.459733241120679, 89: 2.532836431482819, 184: 2.476607719121776, 2: 2.0761246687620694, 91: 1.8903939455202001, 4: 2.1646316068511755, 186: 2.4479625141528243, 133: 2.0247957564554184, 111: 2.327874859138064, 52: 2.1473234150871936, 125: 2.276452991729335, 82: 2.790456485640549, 65: 2.132053376236522, 11: 2.2592892977437917, 142: 2.113152669286892, 189: 2.173413322602328, 74: 2.330373442689704, 0: 1.9929189771181846, 70: 2.3034019843948164, 145: 2.2765131496146935, 64: 2.3077355608448498, 162: 2.2796301095866625, 180: 2.256834593048014, 63: 1.811181231983058, 86: 2.2801114084855962, 72: 1.8708225257351057, 181: 2.3076550564921487, 122: 2.3602715494857973, 163: 2.533317168274941, 81: 1.6551629096079665, 44: 2.2590262784340744, 126: 2.069303213075628}\n",
      "WHATS WRONG??? 1.9929189771181846\n",
      "(4, 4)\n",
      "BEFORE IT {54: 2.0557378889636775, 68: 2.1676037570703914, 19: 2.4371520916020826, 148: 1.7678115752049592, 69: 2.2296917483667955, 86: 2.4678313709566435, 141: 2.215938025396584, 117: 2.2189330575501685, 187: 2.346152579861083, 0: 2.5704642939453324, 10: 2.4471552978727074, 66: 2.2486885298918056, 162: 2.4180779195577617, 96: 1.9627808157317852, 41: 2.506485911318481, 79: 2.3848119977985665, 116: 2.6447001372633405, 198: 2.229096845296397, 131: 2.2358593774088362, 174: 2.133250743049682, 144: 1.872710519428823, 177: 1.904855980005723, 100: 1.7934028003693512, 192: 1.9973890772578744, 12: 2.674804235681944, 51: 2.3777745244121773, 199: 2.232786363140306, 153: 2.2367147890384986, 78: 2.02380097021408, 140: 2.1595198735496424, 161: 2.109795735662424, 169: 1.9431583274930895, 149: 2.368624326579404, 151: 2.210170307958581, 168: 1.7234018885443014, 155: 2.533168604940255, 180: 2.5432603308686192, 77: 1.9551547833800813, 40: 1.8536911881262657, 172: 2.3424796609753007, 185: 2.5656559783992083, 190: 2.3891466155940426, 146: 2.3930460799619113, 42: 2.1458578942198954, 108: 1.7402555968142928, 105: 2.667906196448628, 8: 2.632815202901148, 165: 2.4088343096403317, 13: 2.3870868957219527, 28: 1.809096224547536, 118: 2.176839855730642, 17: 1.8852692376502482, 31: 2.5798599099720785, 45: 2.180437818621477, 76: 2.476546005211091, 123: 2.3473020220469305, 50: 2.4585822685396725, 137: 2.306701001002896, 27: 2.341328304382758, 193: 2.5724178953715837, 67: 1.945899740307942, 119: 2.1113718995159427, 18: 2.1688294166706195, 188: 2.353969275501105, 164: 1.7933144811415782, 176: 2.383082618080161, 120: 2.0095210218812616, 166: 1.9977602793168199, 30: 2.037614285997245, 48: 2.5035551831467098, 181: 2.3287833809198144, 20: 2.3848656392242162, 16: 2.6145854793152083, 159: 2.187045692530474, 24: 2.6543454769261134, 195: 1.9937966062980794, 70: 2.6412193354234628, 136: 2.3795210935123734, 196: 2.007689824421476, 173: 2.07806940128442, 3: 2.3497614436016763, 194: 2.7325935333319213, 186: 2.8242058515813193, 55: 2.445790355261419, 125: 2.1589499317686682, 197: 2.571186332439748, 142: 2.728018975063781, 80: 2.276042130965471, 109: 2.1249301179932987, 32: 2.1184837571231934, 25: 2.1205431767756844, 58: 2.3565132653827385, 49: 2.6566729245855845, 21: 2.538838590542945, 73: 2.5191374036745726, 33: 2.1607219976385728, 23: 2.287541065106744, 87: 2.223163692275328, 154: 2.2161881199903166, 156: 2.5229728273858045, 171: 2.014506632792509, 36: 2.636123493709983, 71: 2.374400462709758, 88: 1.864861687030396, 37: 1.9350139368773926, 179: 2.401479299260324, 130: 2.401360461050486, 81: 2.8101172139287174, 57: 1.8086329710224582, 95: 2.3961738325293065, 128: 2.149666436531043, 91: 2.597786409995282, 15: 1.801364237832025, 62: 2.771669437382936, 65: 2.3087163655390825, 1: 2.816104549347395, 97: 2.54894900656483, 191: 1.8294571984624952, 139: 1.6439946403174834, 93: 2.183978611284142, 83: 2.300109056690355, 6: 1.8888844187736464, 132: 2.751860125229788, 182: 1.8089291635080003, 22: 1.9300725291074055, 127: 2.0202854580736194, 160: 2.4286527910780396, 103: 2.1004027515448627, 47: 2.0568738998277643, 99: 2.5039355841449504, 121: 1.8970791472308757, 11: 2.152772734774599, 63: 2.2235749413648436, 170: 2.4229927180206934, 56: 2.233746347717745, 106: 2.3719367615694735, 138: 2.4050062201418245, 39: 2.2676305427612595, 7: 2.0763341886741467, 114: 2.4538512593168798, 183: 2.013895617454932, 122: 2.373508084523139, 64: 2.629684625718363, 75: 2.0552787343632897, 110: 2.228599017777136, 175: 2.18186263270662, 9: 1.8688932552793642, 61: 2.5704585965881535, 115: 2.7751811159173103, 133: 1.6788717410127654, 113: 2.3536438311272336, 35: 2.233608560938083, 44: 2.3708633459158994, 157: 2.310283930799659, 102: 2.4685986203815897, 112: 2.7897719776925136, 135: 2.305406648582461, 152: 2.533443763794074, 38: 2.0308090903133027, 43: 2.0436768873519022, 74: 2.2532045991557124, 124: 1.7317440261089037, 126: 1.9379131722690643, 147: 2.300657826973922, 52: 2.574530552245601, 178: 2.4095943095688637, 2: 2.455544322893779, 14: 1.991851511338934, 82: 2.1964050742291037, 134: 2.500013469353537, 145: 2.2280625198803845, 163: 2.433205927170768, 26: 2.307467421411729, 46: 2.2787527270577335, 5: 2.468114844052039, 85: 2.182220105404008, 29: 2.144691665209555, 89: 2.184179413250989, 90: 2.079638148459831, 98: 2.251515401053882}\n",
      "WHATS WRONG??? 2.5704642939453324\n",
      "(4, 4)\n",
      "BEFORE IT {48: 2.5898521333289146, 157: 2.068194387583053, 198: 2.3599782287551245, 10: 1.6754854342692045, 93: 2.2440626042257836, 16: 2.303470438873853, 163: 2.0192356036818726, 44: 2.6076451442256228, 95: 2.6226926471425096, 156: 1.9811583376913782, 49: 2.4571116494800487, 104: 2.181906653382636, 184: 2.800679268566597, 134: 2.195672708164472, 136: 2.487315560388163, 140: 2.2950316481359936, 112: 2.0182415282581, 192: 1.9602441268271988, 110: 2.2740509868701535, 181: 2.363831050893203, 124: 2.544888127352492, 53: 1.988212095010365, 99: 2.4073842171386746, 102: 1.9467195963551422, 85: 2.345553078578551, 26: 1.9777514204462099, 80: 2.5559496546122675, 87: 2.1897821398632296, 74: 1.8519227613661742, 5: 2.392981496574584, 189: 2.0969289658818617, 79: 2.06509158842591, 147: 1.8229960646988097, 113: 2.237256039062345, 33: 2.3691982652850876, 86: 2.2139078185370704, 81: 2.428632516145157, 17: 2.2872899942068816, 43: 2.2250824005630556, 169: 2.331279707104359, 155: 1.782787930765804, 195: 2.40305495933518, 42: 2.2724982645923726, 1: 2.3756547282906113, 166: 2.0649166684910156, 11: 1.8883718265649203, 109: 2.382238149048806, 164: 2.328454774004306, 83: 1.9960716562963363, 177: 2.442828366557496, 138: 2.4915882518505637, 176: 1.9374255989652136, 141: 2.107152828818949, 90: 1.9522830230898265, 65: 2.316346643485732, 144: 1.7392777127843977, 103: 2.330305430473332, 172: 2.5269572924862373, 20: 2.2028850175324655, 34: 2.284803914804564, 72: 2.015959576883289, 70: 2.350882594966079, 8: 2.3060443642405106, 101: 2.3180658168091144, 36: 2.05226013690113, 175: 2.217619219528722, 146: 2.2828465876806794, 37: 2.236507252536594, 32: 2.1147553866200566, 39: 2.056271876001545, 130: 2.280179484725005, 89: 2.3260389327216195, 28: 2.0081235530346326, 122: 2.3407837067726254, 137: 2.4705092292154536, 75: 2.143188656653069, 21: 2.044311249956821, 161: 2.5067519483977563, 41: 2.47411551768361, 97: 2.2557472717210323, 18: 2.428578250871272, 27: 2.173330695672403, 46: 2.522617293805366, 91: 2.7569858896711645, 160: 2.137878663524217, 135: 2.502991340887474, 98: 2.000401521170072, 149: 2.0665831843395166, 107: 2.0746763761387728, 152: 2.1948533276640223, 35: 1.930455155882393, 57: 2.7646332866684835, 188: 2.492460086008329, 2: 2.2818815848711624, 120: 2.0895422583165897, 59: 1.9828260691360553, 173: 1.7643463898422806, 0: 2.0427056007982003, 125: 2.1450410988890614, 62: 2.496473671301312, 31: 2.3866079583327915, 69: 2.3992250573331675, 66: 2.409673181491762, 158: 2.194622053866895, 58: 1.9837762838212218, 121: 2.540049167394332, 84: 2.288405340937556, 22: 2.501770118433736, 151: 1.9088478176523187, 12: 2.729018792626405, 3: 2.3569432889755104, 183: 2.3603962264830893, 185: 2.4289100469181424, 30: 2.612903720195458, 179: 2.756973205012028, 154: 2.3476471988077687, 128: 2.7415385394235576, 64: 2.2761393172088615, 24: 2.0140044726521653, 14: 2.4298394181266536, 180: 2.410028329481311, 196: 2.5093334746166294, 60: 2.394339647780828, 71: 1.864390821554395, 68: 2.107372569002494, 171: 2.4714429081746405, 193: 2.276902252459469, 92: 2.2682022732651457, 199: 2.0577053307743807, 23: 1.813985076149458, 55: 2.2249498212739933, 73: 2.1079609704314564, 115: 2.3497372384798387, 7: 1.817945560941923, 47: 1.958145170773165, 150: 1.9255329392448517, 153: 2.183283898959635, 56: 2.16345700244632, 182: 2.225793713270396, 52: 2.5669720574342483, 13: 2.540760083879786, 4: 2.610623598067782, 119: 2.5225882830188815, 29: 2.4387825922438666, 82: 2.16107884660128, 123: 2.6132823543281916, 129: 1.9462839548311126, 194: 2.3594038844163006, 126: 2.5236062747009136, 40: 1.8685088582971803, 9: 2.1566006692125863, 186: 2.559803300772102, 111: 2.3961160597722415, 51: 1.8442730085124452, 88: 2.3128337660846277, 131: 2.25604559145488, 63: 2.16798704815488, 159: 2.671317525714778, 45: 2.0557958837158603, 108: 2.6212751675922084, 167: 2.1884699382126644, 174: 2.104434789652834, 38: 2.5255474199995955, 25: 2.4626232524985867, 15: 2.1212146843302317, 78: 2.1054366232116, 145: 2.249513011258938, 178: 2.469768531085778, 114: 2.644227059202404, 77: 2.372980463082694, 50: 1.988308027576693, 197: 2.166521442589863, 168: 2.244660239545958, 170: 2.4474414712892347, 106: 2.7335479686833537, 133: 2.21004568736773, 105: 2.115651648029433, 61: 2.5622160897181034, 191: 2.7044481940416287, 162: 2.1526864017440133}\n",
      "WHATS WRONG??? 2.0427056007982003\n",
      "(4, 4)\n",
      "BEFORE IT {179: 2.4309539641031312, 33: 2.7952537764554757, 26: 2.306410684752984, 105: 2.142880544712562, 46: 1.9836168373033345, 163: 2.339252562024049, 18: 1.7730452559385441, 1: 2.060376983751352, 69: 2.8641298678722134, 122: 2.162333398144355, 31: 2.604513618752895, 104: 2.0318073552526963, 188: 1.9485579437259641, 116: 2.2131115304938596, 110: 2.36785133904427, 96: 2.022768391945092, 59: 2.082765294247195, 138: 2.66383813574244, 152: 2.842815057943987, 32: 2.278039262280223, 150: 2.1607444281412103, 121: 2.278011743840783, 196: 2.6849682336395793, 187: 2.1753818676685164, 58: 2.7346946122325133, 49: 2.247873980703102, 195: 1.7164689334526968, 68: 2.1133100165347205, 3: 2.1100319436299584, 185: 2.5972593409384754, 139: 2.5089513455085237, 180: 2.048147842470318, 182: 2.111218847303169, 78: 2.2604191983891235, 198: 2.6576501079800074, 101: 2.2575706765891557, 84: 1.968672298979265, 157: 2.4308226864603766, 126: 2.1965564118564163, 135: 2.008456188778274, 151: 2.7331073950668188, 171: 2.2227337905725544, 12: 2.3850545596865893, 161: 1.9734612708330883, 100: 2.4548894403169874, 30: 2.533557316092717, 147: 2.388585814088615, 98: 2.752402455292983, 143: 2.1393546883043237, 194: 2.5815418212257706, 183: 2.016464691929932, 53: 2.0555786673275556, 176: 2.1285188662674352, 38: 2.2601424220640363, 51: 2.023801641094586, 44: 2.188739841574619, 189: 2.0701658226426636, 73: 2.3229073136966902, 136: 2.1813881815696115, 130: 2.3790892237923367, 67: 1.9625651749465223, 174: 2.3825377577307725, 29: 2.0543093273347024, 77: 2.4421235116488575, 111: 2.4703703470267033, 191: 2.8215770814554677, 82: 2.4289223347553524, 131: 2.281946488154146, 155: 2.002373524517612, 99: 2.0615729243723546, 193: 2.576062021151709, 162: 2.2638917847492506, 154: 2.1347196474235344, 65: 2.3142384072868203, 15: 2.178289180436369, 5: 2.17752254726786, 170: 2.147043435584397, 109: 2.673229747882514, 127: 2.265501623734025, 21: 2.0994310699920993, 64: 2.0433414222619923, 89: 2.3321044429650466, 14: 1.7475430204618747, 27: 1.886207991335108, 66: 2.0983844084302166, 62: 2.277417598542443, 181: 2.0567407117066048, 76: 2.1251976421797725, 95: 2.4539647640602738, 61: 2.1960576946191424, 145: 1.8513389783564203, 167: 2.0014307446068047, 113: 2.1159649321070644, 56: 1.9644089070604365, 92: 2.0089693753134417, 80: 2.112914389855477, 173: 2.4192054363327458, 199: 1.843074470828618, 164: 2.1915080905072033, 17: 2.0462318762453817, 7: 1.9367356272238754, 140: 1.9745744450618377, 93: 2.6106844690812867, 128: 2.0761076594058068, 142: 1.804310005604903, 28: 1.7427631505034802, 114: 2.408247609626864, 4: 2.377049084931895, 71: 2.422311819152698, 74: 1.723448436627452, 156: 2.1018699092780273, 63: 2.2943934252768545, 70: 1.7286283716963338, 50: 2.5410534323834035, 106: 2.1289084036535053, 178: 2.235608360537629, 137: 2.3129321066331014, 186: 2.6296956058467957, 146: 2.0091931097251585, 141: 2.1552910982366194, 133: 2.2560556880221587, 124: 2.0780092136492216, 24: 1.8601620407899593, 37: 2.164333829803794, 120: 2.3353502525624363, 39: 2.1484505273583987, 55: 2.391049265741615, 57: 1.9573973613714188, 166: 2.5397736805966034, 165: 2.0470227194726403, 159: 1.9614439545655977, 184: 2.552743992266363, 125: 2.174152316066062, 35: 2.5693545778972924, 88: 1.9150842012102252, 117: 2.232590222780109, 42: 2.242636839664402, 108: 2.2592999625894064, 41: 1.672511063893808, 144: 1.8344593589894835, 81: 2.0338059320965023, 2: 2.006642568349309, 192: 2.035523054273362, 52: 2.3419863106558068, 23: 2.2665293524261987, 47: 2.245543508920761, 8: 2.7898646811590133, 132: 2.239267324303408, 20: 2.1347930971194233, 43: 1.938225793731283, 168: 2.476295758069253, 172: 2.3899610377622293, 34: 1.994241819745298, 22: 2.63862902340259, 115: 1.915440657595818, 86: 1.994433385941914, 112: 2.2866522450336606, 60: 1.755449509518832, 160: 2.017086299817117, 72: 1.750857250595706, 19: 2.3597505600604967, 40: 2.3167543900880148, 13: 2.159919604313749, 6: 2.3307803973799563, 16: 2.2824080706420373, 149: 2.6043513325051455, 103: 2.728600064996451, 129: 1.660822979942946, 83: 1.9303050121996614, 102: 2.4150211539331967, 148: 2.0960923914220757, 25: 2.159467143962131, 107: 2.09616640921052, 54: 1.9012899401324987, 190: 2.1307272802383803, 123: 2.125860552906018, 197: 1.8968204262050015, 118: 2.1883526622796854, 134: 2.467788826191596, 175: 2.3826883751190175}\n"
     ]
    },
    {
     "ename": "KeyError",
     "evalue": "0",
     "output_type": "error",
     "traceback": [
      "\u001b[1;31m-------------------------------\u001b[0m",
      "\u001b[1;31mKeyError\u001b[0mTraceback (most recent call last)",
      "Cell \u001b[1;32mIn[1], line 2\u001b[0m\n\u001b[0;32m      1\u001b[0m \u001b[38;5;28;01mfrom\u001b[39;00m \u001b[38;5;21;01mpackage\u001b[39;00m\u001b[38;5;21;01m.\u001b[39;00m\u001b[38;5;21;01mgenerating_data\u001b[39;00m \u001b[38;5;28;01mimport\u001b[39;00m add_green_gen_alt\n\u001b[1;32m----> 2\u001b[0m fileName_Figure_22 \u001b[38;5;241m=\u001b[39m \u001b[43madd_green_gen_alt\u001b[49m\u001b[38;5;241;43m.\u001b[39;49m\u001b[43mmain\u001b[49m\u001b[43m(\u001b[49m\n\u001b[0;32m      3\u001b[0m \u001b[43m    \u001b[49m\u001b[43mRUN\u001b[49m\u001b[43m \u001b[49m\u001b[38;5;241;43m=\u001b[39;49m\u001b[43m \u001b[49m\u001b[38;5;241;43m1\u001b[39;49m\u001b[43m,\u001b[49m\n\u001b[0;32m      4\u001b[0m \u001b[43m    \u001b[49m\u001b[43mfileName\u001b[49m\u001b[43m \u001b[49m\u001b[38;5;241;43m=\u001b[39;49m\u001b[43m \u001b[49m\u001b[38;5;124;43m\"\u001b[39;49m\u001b[38;5;124;43mresults/green_influencers_culture_four_alt_12_01_06__17_02_2023\u001b[39;49m\u001b[38;5;124;43m\"\u001b[39;49m\u001b[43m,\u001b[49m\n\u001b[0;32m      5\u001b[0m \u001b[43m    \u001b[49m\u001b[43mBASE_PARAMS_LOAD\u001b[49m\u001b[43m \u001b[49m\u001b[38;5;241;43m=\u001b[39;49m\u001b[43m \u001b[49m\u001b[38;5;124;43m\"\u001b[39;49m\u001b[38;5;124;43mpackage/constants/base_params_alt.json\u001b[39;49m\u001b[38;5;124;43m\"\u001b[39;49m\u001b[43m,\u001b[49m\n\u001b[0;32m      6\u001b[0m \u001b[43m    \u001b[49m\u001b[43mparam_vary_reps\u001b[49m\u001b[43m \u001b[49m\u001b[38;5;241;43m=\u001b[39;49m\u001b[43m \u001b[49m\u001b[38;5;241;43m4\u001b[39;49m\u001b[43m,\u001b[49m\n\u001b[0;32m      7\u001b[0m \u001b[43m    \u001b[49m\u001b[43mgreen_N\u001b[49m\u001b[43m \u001b[49m\u001b[38;5;241;43m=\u001b[39;49m\u001b[43m \u001b[49m\u001b[38;5;241;43m20\u001b[39;49m\n\u001b[0;32m      8\u001b[0m \u001b[43m)\u001b[49m\n",
      "File \u001b[1;32m~\\Documents\\culture-network\\package\\generating_data\\add_green_gen_alt.py:244\u001b[0m, in \u001b[0;36mmain\u001b[1;34m(RUN, fileName, BASE_PARAMS_LOAD, dpi_save, param_vary_reps, green_N, sum_a_b)\u001b[0m\n\u001b[0;32m    241\u001b[0m emissions_list_no_green_culture, emissions_id_list_no_green_culture, initial_individual_carbon_emissions_id_no_green_culture, first_attitude_id_list_no_green_culture, initial_first_attitude_id_list_no_green_culture \u001b[38;5;241m=\u001b[39m multi_stochstic_emissions_run_all_individual(params_list_no_green_culture)\n\u001b[0;32m    243\u001b[0m \u001b[38;5;66;03m####################################################################################\u001b[39;00m\n\u001b[1;32m--> 244\u001b[0m emissions_difference_matrix_compare_green,emissions_difference_matrix_compare_no_green,emissions_difference_matrix_compare_culture,emissions_difference_matrix_compare_no_culture \u001b[38;5;241m=\u001b[39m \u001b[43mcalc_id_attribute_change\u001b[49m\u001b[43m(\u001b[49m\u001b[43memissions_id_list_no_green_no_culture\u001b[49m\u001b[43m,\u001b[49m\u001b[43memissions_id_list_no_green_culture\u001b[49m\u001b[43m,\u001b[49m\u001b[43memissions_id_list_green_no_culture\u001b[49m\u001b[43m,\u001b[49m\u001b[43memissions_id_list_green_culture\u001b[49m\u001b[43m,\u001b[49m\u001b[43mmean_list\u001b[49m\u001b[43m,\u001b[49m\u001b[43mbase_params\u001b[49m\u001b[43m)\u001b[49m\n\u001b[0;32m    245\u001b[0m first_attitude_difference_matrix_compare_green,first_attitude_difference_matrix_compare_no_green,first_attitude_difference_matrix_compare_culture,first_attitude_difference_matrix_compare_no_culture \u001b[38;5;241m=\u001b[39m calc_id_attribute_change(first_attitude_id_list_no_green_no_culture,first_attitude_id_list_no_green_culture,first_attitude_id_list_green_no_culture,first_attitude_id_list_green_culture,mean_list,base_params)\n\u001b[0;32m    247\u001b[0m emissions_difference_lists_no_green_no_culture, emissions_difference_lists_green_no_culture,emissions_difference_lists_no_green_culture,emissions_difference_lists_green_culture \u001b[38;5;241m=\u001b[39m calc_id_attribute_change_start_finish(emissions_id_list_no_green_no_culture, emissions_id_list_green_no_culture,emissions_id_list_no_green_culture,emissions_id_list_green_culture,    initial_individual_carbon_emissions_id_no_green_no_culture,initial_individual_carbon_emissions_id_green_no_culture,initial_individual_carbon_emissions_id_no_green_culture,   initial_individual_carbon_emissions_id_green_culture ,mean_list,base_params)\n",
      "File \u001b[1;32m~\\Documents\\culture-network\\package\\generating_data\\add_green_gen_alt.py:53\u001b[0m, in \u001b[0;36mcalc_id_attribute_change\u001b[1;34m(emissions_id_list_no_green_no_culture, emissions_id_list_no_green_culture, emissions_id_list_green_no_culture, emissions_id_list_green_culture, mean_list, base_params)\u001b[0m\n\u001b[0;32m     51\u001b[0m \u001b[38;5;28mprint\u001b[39m(emissions_id_list_green_culture\u001b[38;5;241m.\u001b[39mshape)\n\u001b[0;32m     52\u001b[0m \u001b[38;5;28mprint\u001b[39m(\u001b[38;5;124m\"\u001b[39m\u001b[38;5;124mBEFORE IT\u001b[39m\u001b[38;5;124m\"\u001b[39m, emissions_id_list_green_culture[i,j])\n\u001b[1;32m---> 53\u001b[0m \u001b[38;5;28mprint\u001b[39m(\u001b[38;5;124m\"\u001b[39m\u001b[38;5;124mWHATS WRONG???\u001b[39m\u001b[38;5;124m\"\u001b[39m, \u001b[43memissions_id_list_green_culture\u001b[49m\u001b[43m[\u001b[49m\u001b[43mi\u001b[49m\u001b[43m,\u001b[49m\u001b[43mj\u001b[49m\u001b[43m]\u001b[49m\u001b[43m[\u001b[49m\u001b[43mk\u001b[49m\u001b[43m]\u001b[49m)\n\u001b[0;32m     54\u001b[0m emissions_difference_stochastic_compare_green  \u001b[38;5;241m=\u001b[39m ((emissions_id_list_green_culture[i,j][k] \u001b[38;5;241m-\u001b[39m  emissions_id_list_green_no_culture[i,j][k])\u001b[38;5;241m/\u001b[39memissions_id_list_green_no_culture[i,j][k])\u001b[38;5;241m*\u001b[39m\u001b[38;5;241m100\u001b[39m\u001b[38;5;66;03m#relative change in emissiosn between rusn with greens, where we divide by case of no culture\u001b[39;00m\n\u001b[0;32m     55\u001b[0m emissions_difference_stochastic_compare_no_green  \u001b[38;5;241m=\u001b[39m ((emissions_id_list_no_green_culture[i,j][k] \u001b[38;5;241m-\u001b[39m  emissions_id_list_no_green_no_culture[i,j][k])\u001b[38;5;241m/\u001b[39memissions_id_list_no_green_no_culture[i,j][k])\u001b[38;5;241m*\u001b[39m\u001b[38;5;241m100\u001b[39m\u001b[38;5;66;03m#relative change in emissiosn between rusn with no greens, where we divide by case of no culture\u001b[39;00m\n",
      "\u001b[1;31mKeyError\u001b[0m: 0"
     ]
    }
   ],
   "source": [
    "from package.generating_data import add_green_gen_alt\n",
    "fileName_Figure_22 = add_green_gen_alt.main(\n",
    "    RUN = 1,\n",
    "    fileName = \"results/green_influencers_culture_four_alt_12_01_06__17_02_2023\",\n",
    "    BASE_PARAMS_LOAD = \"package/constants/base_params_alt.json\",\n",
    "    param_vary_reps = 4,\n",
    "    green_N = 20\n",
    ")"
   ]
  },
  {
   "cell_type": "markdown",
   "metadata": {},
   "source": [
    "In the following notebook is contained the code required to reproduce each of the figures found in the paper.\n",
    "\n",
    "Figure 2: Discount array \"$D_t$\"."
   ]
  },
  {
   "cell_type": "code",
   "execution_count": null,
   "metadata": {},
   "outputs": [],
   "source": [
    "from package.plotting_data import hyperbolic_discounting_example\n",
    "hyperbolic_discounting_example.main()"
   ]
  },
  {
   "cell_type": "markdown",
   "metadata": {},
   "source": [
    "Figure 4: Time series of individual’s environmental identity.\n",
    "\n",
    "First we generate the data from package.the three cases A, B and C."
   ]
  },
  {
   "cell_type": "code",
   "execution_count": null,
   "metadata": {},
   "outputs": [],
   "source": [
    "from package.generating_data import oneD_param_sweep_gen\n",
    "fileName_Figure_4 = oneD_param_sweep_gen.main(\n",
    "    RUN_TYPE = 0,\n",
    "    BASE_PARAMS_LOAD = \"package/constants/base_params.json\"\n",
    "    )"
   ]
  },
  {
   "cell_type": "markdown",
   "metadata": {},
   "source": [
    "Next we plot the time series"
   ]
  },
  {
   "cell_type": "code",
   "execution_count": null,
   "metadata": {},
   "outputs": [],
   "source": [
    "from package.plotting_data import oneD_param_sweep_plot\n",
    "oneD_param_sweep_plot.main(    \n",
    "    fileName = fileName_Figure_4,\n",
    "    GRAPH_TYPE = 0\n",
    "    )"
   ]
  },
  {
   "cell_type": "markdown",
   "metadata": {},
   "source": [
    "Figure 5: Bifurcation diagram.\n",
    "\n",
    "WARNING: As there are a large number of runs in the data used to generate this plot it will take a considerable time. We cover 1000 parameter combinations. Can reduce \"reps\" to decrease this for lower resolution results."
   ]
  },
  {
   "cell_type": "code",
   "execution_count": null,
   "metadata": {},
   "outputs": [],
   "source": [
    "from package.generating_data import bifurcation_gen\n",
    "fileName_Figure_5 = bifurcation_gen.main(\n",
    "    BASE_PARAMS_LOAD = \"package/constants/base_params.json\",\n",
    "    param_min = 0.0,\n",
    "    param_max = 100.0,\n",
    "    reps = 500,\n",
    "    bandwidth = 0.01\n",
    "    )"
   ]
  },
  {
   "cell_type": "markdown",
   "metadata": {},
   "source": [
    "Alternatively load in data from package.another run"
   ]
  },
  {
   "cell_type": "code",
   "execution_count": null,
   "metadata": {},
   "outputs": [],
   "source": [
    "fileName_Figure_5 = \"results/bifurcation_SINGLE_COMPARE_IDENTITY_22_47_05__14_02_2023\""
   ]
  },
  {
   "cell_type": "markdown",
   "metadata": {},
   "source": [
    "Next plot the results for both cases."
   ]
  },
  {
   "cell_type": "code",
   "execution_count": null,
   "metadata": {},
   "outputs": [],
   "source": [
    "from package.plotting_data import bifurcation_plot\n",
    "bifurcation_plot.main(    \n",
    "    fileName = fileName_Figure_5,\n",
    "    bifurcation_plot_data_analysis = 0,\n",
    "    latex_bool = 1\n",
    "    )"
   ]
  },
  {
   "cell_type": "markdown",
   "metadata": {},
   "source": [
    "Figure 6: Sobol sensitivity analysis of model parameters.\n",
    "\n",
    "WARNING: As there are a large number of runs in the data used to generate this plot it will take a considerable time. In the case of the Figure 7 we ran 76800 experiments, this took approximately 1 week on a server with 40 cores. Reduce \"N_samples\" to decrease run time, must be a power of two."
   ]
  },
  {
   "cell_type": "code",
   "execution_count": null,
   "metadata": {},
   "outputs": [],
   "source": [
    "from package.generating_data import sensitivity_analysis_gen\n",
    "fileName_Figure_6 = sensitivity_analysis_gen.main(\n",
    "    N_samples = 1024,\n",
    "    BASE_PARAMS_LOAD = \"package/constants/base_params.json\",\n",
    "    VARIABLE_PARAMS_LOAD = \"package/constants/variable_parameters_dict_SA.json\"\n",
    ")"
   ]
  },
  {
   "cell_type": "code",
   "execution_count": null,
   "metadata": {},
   "outputs": [],
   "source": [
    "fileName_Figure_6 = \"results/...\""
   ]
  },
  {
   "cell_type": "code",
   "execution_count": null,
   "metadata": {},
   "outputs": [],
   "source": [
    "from package.plotting_data import sensitivity_analysis_plot\n",
    "sensitivity_analysis_plot.main(    \n",
    "    fileName = fileName_Figure_6,\n",
    "    )"
   ]
  },
  {
   "cell_type": "markdown",
   "metadata": {},
   "source": [
    "Figure 7: Three scenarios of differing identity updating frequency."
   ]
  },
  {
   "cell_type": "code",
   "execution_count": null,
   "metadata": {},
   "outputs": [],
   "source": [
    "from package.generating_data import identity_frequency_gen\n",
    "fileName_Figure_7 = identity_frequency_gen.main(\n",
    "    BASE_PARAMS_LOAD = \"package/constants/base_params_identity_frequency.json\"\n",
    ")"
   ]
  },
  {
   "cell_type": "code",
   "execution_count": null,
   "metadata": {},
   "outputs": [],
   "source": [
    "\n",
    "from package.plotting_data import identity_frequency_plot\n",
    "identity_frequency_plot.main(    \n",
    "    fileName = fileName_Figure_7,\n",
    "    alpha_change_plot = 1,\n",
    "    bandwidth = 0.01,\n",
    "    )"
   ]
  },
  {
   "cell_type": "markdown",
   "metadata": {},
   "source": [
    "Figure 8: Decreasing initial identity homophily results in faster consensus formation in the network."
   ]
  },
  {
   "cell_type": "code",
   "execution_count": null,
   "metadata": {},
   "outputs": [],
   "source": [
    "from package.generating_data import oneD_param_sweep_gen\n",
    "fileName_Figure_8 = oneD_param_sweep_gen.main( \n",
    "    RUN_TYPE = 1,\n",
    "    BASE_PARAMS_LOAD = \"package/constants/base_params_homophily.json\"\n",
    "    )"
   ]
  },
  {
   "cell_type": "code",
   "execution_count": null,
   "metadata": {},
   "outputs": [],
   "source": [
    "from package.plotting_data import oneD_param_sweep_plot\n",
    "oneD_param_sweep_plot.main(    \n",
    "    fileName = fileName_Figure_8,\n",
    "    GRAPH_TYPE = 1,\n",
    "    )"
   ]
  },
  {
   "cell_type": "markdown",
   "metadata": {},
   "source": [
    "Figure 9: Mean emissions change of an individual between cases with and without green influencers\n",
    "\n",
    "WARNING: As there are a large number of runs in the data used to generate this plot it will take a considerable time. We cover 400 parameter combinations, averaging over 20 different stochastic inital conditions for a total of 8000 experiments. First run for low confirmation bias, then high. We also set the degree of polarisation of the attitude distribution, as we vary the mean, the greater \"sum_a_b\" the less polarised."
   ]
  },
  {
   "cell_type": "code",
   "execution_count": null,
   "metadata": {},
   "outputs": [],
   "source": [
    "from package.generating_data import adding_green_influencers_gen\n",
    "fileName_Figure_9_low = adding_green_influencers_gen.main(\n",
    "    BASE_PARAMS_LOAD = \"package/constants/base_params_add_greens.json\",\n",
    "    green_N = 20,\n",
    "    mean_list_min = 0.01,\n",
    "    mean_list_max = 0.99,\n",
    "    mean_list_reps = 200,\n",
    "    sum_a_b = 4,\n",
    "    confirmation_bias = 5\n",
    ")\n",
    "\n",
    "fileName_Figure_9_high = adding_green_influencers_gen.main(\n",
    "    BASE_PARAMS_LOAD = \"package/constants/base_params_add_greens.json\",\n",
    "    green_N = 20,\n",
    "    mean_list_min = 0.01,\n",
    "    mean_list_max = 0.99,\n",
    "    mean_list_reps = 200,\n",
    "    sum_a_b = 4,\n",
    "    confirmation_bias = 20\n",
    ")"
   ]
  },
  {
   "cell_type": "code",
   "execution_count": null,
   "metadata": {},
   "outputs": [],
   "source": [
    "fileName_Figure_9_low = \"results/...\"\n",
    "fileName_Figure_9_high = \"results/...\""
   ]
  },
  {
   "cell_type": "code",
   "execution_count": null,
   "metadata": {},
   "outputs": [],
   "source": [
    "from package.plotting_data import adding_green_influencers_plot\n",
    "adding_green_influencers_plot.main(    \n",
    "    fileName_add_greens_theta_one = fileName_Figure_9_low,\n",
    "    fileName_add_greens_theta_two = fileName_Figure_9_high\n",
    "    )    "
   ]
  },
  {
   "cell_type": "markdown",
   "metadata": {},
   "source": [
    "Figure 10: The beta distribution "
   ]
  },
  {
   "cell_type": "code",
   "execution_count": null,
   "metadata": {},
   "outputs": [],
   "source": [
    "from package.plotting_data import init_distribution_example\n",
    "init_distribution_example.main(\n",
    "    a_b_combo_list = [[5,5],[2,3],[1,1],[0.1,0.1]],\n",
    "    )"
   ]
  },
  {
   "cell_type": "markdown",
   "metadata": {},
   "source": [
    "Figure 11: The initial distribution of individuals’ attitudes correlates strongly with the total societal emissions per agent and behaviour.\n",
    "\n",
    "WARNING: As there are a large number of runs in the data used to generate this plot it will take a considerable time. We cover 4096 parameter combinations, averaging over 5 different stochastic inital conditions for a total of 20480 experiments."
   ]
  },
  {
   "cell_type": "code",
   "execution_count": null,
   "metadata": {},
   "outputs": [],
   "source": [
    "from package.generating_data import twoD_param_sweep_gen\n",
    "fileName_Figure_11 = twoD_param_sweep_gen.main(\n",
    "    BASE_PARAMS_LOAD = \"package/constants/base_params.json\",\n",
    "    VARIABLE_PARAMS_LOAD = \"package/constants/variable_parameters_dict_2D.json\"\n",
    ")"
   ]
  },
  {
   "cell_type": "code",
   "execution_count": null,
   "metadata": {},
   "outputs": [],
   "source": [
    "fileName_Figure_11 = \"results/...\""
   ]
  },
  {
   "cell_type": "code",
   "execution_count": null,
   "metadata": {},
   "outputs": [],
   "source": [
    "from package.plotting_data import twoD_param_sweep_plot\n",
    "twoD_param_sweep_plot.main(    \n",
    "    fileName = fileName_Figure_11,\n",
    "    levels = 10,\n",
    "    )"
   ]
  },
  {
   "cell_type": "markdown",
   "metadata": {},
   "source": [
    "Figure 12: Within \"identity bubbles\" there is uniform weighting amongst neighbours.\n",
    "\n",
    "WARNING: Need to run the data generation from package.Figure 7"
   ]
  },
  {
   "cell_type": "code",
   "execution_count": null,
   "metadata": {},
   "outputs": [],
   "source": [
    "from package.plotting_data import identity_frequency_plot\n",
    "identity_frequency_plot.main(    \n",
    "    fileName = fileName_Figure_7,#Load the data used from package.Figure 7\n",
    "    data_analysis_clusters = 1,\n",
    "    micro_clusters_plot = 1,\n",
    "    )"
   ]
  }
 ],
 "metadata": {
  "kernelspec": {
   "display_name": "venv",
   "language": "python",
   "name": "venv"
  },
  "language_info": {
   "codemirror_mode": {
    "name": "ipython",
    "version": 3
   },
   "file_extension": ".py",
   "mimetype": "text/x-python",
   "name": "python",
   "nbconvert_exporter": "python",
   "pygments_lexer": "ipython3",
   "version": "3.9.2"
  },
  "vscode": {
   "interpreter": {
    "hash": "0c11d44ea05e479bceb3238d6d6267ba70621afd7873ac8a7cdcef5505efeee8"
   }
  }
 },
 "nbformat": 4,
 "nbformat_minor": 2
}
