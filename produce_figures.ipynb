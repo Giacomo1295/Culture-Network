{
 "cells": [
  {
   "cell_type": "markdown",
   "metadata": {},
   "source": [
    "In the following notebook is contained the code required to reproduce each of the figures found in the paper.\n",
    "\n",
    "Figure 2: Discount array \"$D_t$\"."
   ]
  },
  {
   "cell_type": "code",
   "execution_count": null,
   "metadata": {},
   "outputs": [],
   "source": [
    "from package.plotting_data import hyperbolic_discounting_example\n",
    "hyperbolic_discounting_example.main()"
   ]
  },
  {
   "cell_type": "markdown",
   "metadata": {},
   "source": [
    "Figure 3: Time series of individual’s environmental identity.\n",
    "\n",
    "First we generate the data from package.the three cases A, B and C."
   ]
  },
  {
   "cell_type": "code",
   "execution_count": null,
   "metadata": {},
   "outputs": [],
   "source": [
    "from package.generating_data import oneD_param_sweep_gen\n",
    "fileName_Figure_4 = oneD_param_sweep_gen.main(\n",
    "    RUN_TYPE = 0,\n",
    "    BASE_PARAMS_LOAD = \"package/constants/base_params.json\"\n",
    "    )"
   ]
  },
  {
   "cell_type": "markdown",
   "metadata": {},
   "source": [
    "Next we plot the time series"
   ]
  },
  {
   "cell_type": "code",
   "execution_count": null,
   "metadata": {},
   "outputs": [],
   "source": [
    "from package.plotting_data import oneD_param_sweep_plot\n",
    "oneD_param_sweep_plot.main(    \n",
    "    fileName = fileName_Figure_4,\n",
    "    GRAPH_TYPE = 0\n",
    "    )"
   ]
  },
  {
   "cell_type": "markdown",
   "metadata": {},
   "source": [
    "Figure 4: Bifurcation diagram.\n",
    "\n",
    "WARNING: As there are a large number of runs in the data used to generate this plot it will take a considerable time. We cover 1000 parameter combinations. Can reduce \"reps\" to decrease this for lower resolution results."
   ]
  },
  {
   "cell_type": "code",
   "execution_count": null,
   "metadata": {},
   "outputs": [],
   "source": [
    "from package.generating_data import bifurcation_gen\n",
    "fileName_Figure_4 = bifurcation_gen.main(\n",
    "    BASE_PARAMS_LOAD = \"package/constants/base_params.json\",\n",
    "    param_min = 0.0,\n",
    "    param_max = 100.0,\n",
    "    reps = 500,\n",
    "    bandwidth = 0.01\n",
    "    )"
   ]
  },
  {
   "cell_type": "markdown",
   "metadata": {},
   "source": [
    "Alternatively load in data from package.another run"
   ]
  },
  {
   "cell_type": "code",
   "execution_count": null,
   "metadata": {},
   "outputs": [],
   "source": [
    "fileName_Figure_4 = \"results/bifurcation_SINGLE_COMPARE_IDENTITY_22_47_05__14_02_2023\""
   ]
  },
  {
   "cell_type": "markdown",
   "metadata": {},
   "source": [
    "Next plot the results for both cases."
   ]
  },
  {
   "cell_type": "code",
   "execution_count": null,
   "metadata": {},
   "outputs": [],
   "source": [
    "from package.plotting_data import bifurcation_plot\n",
    "bifurcation_plot.main(    \n",
    "    fileName = fileName_Figure_4,\n",
    "    bifurcation_plot_data_analysis = 0,\n",
    "    latex_bool = 1\n",
    "    )"
   ]
  },
  {
   "cell_type": "markdown",
   "metadata": {},
   "source": [
    "Figure 5: Three scenarios of differing identity updating frequency."
   ]
  },
  {
   "cell_type": "code",
   "execution_count": null,
   "metadata": {},
   "outputs": [],
   "source": [
    "from package.generating_data import identity_frequency_gen\n",
    "fileName_Figure_5 = identity_frequency_gen.main(\n",
    "    BASE_PARAMS_LOAD = \"package/constants/base_params_identity_frequency.json\"\n",
    ")"
   ]
  },
  {
   "cell_type": "code",
   "execution_count": null,
   "metadata": {},
   "outputs": [],
   "source": [
    "\n",
    "from package.plotting_data import identity_frequency_plot\n",
    "identity_frequency_plot.main(    \n",
    "    fileName = fileName_Figure_5,\n",
    "    alpha_change_plot = 1,\n",
    "    bandwidth = 0.01,\n",
    "    )"
   ]
  },
  {
   "cell_type": "markdown",
   "metadata": {},
   "source": [
    "Figure 6: Decreasing initial identity homophily results in faster consensus formation in the network."
   ]
  },
  {
   "cell_type": "code",
   "execution_count": null,
   "metadata": {},
   "outputs": [],
   "source": [
    "from package.generating_data import oneD_param_sweep_gen\n",
    "fileName_Figure_6 = oneD_param_sweep_gen.main( \n",
    "    RUN_TYPE = 1,\n",
    "    BASE_PARAMS_LOAD = \"package/constants/base_params_homophily.json\"\n",
    "    )"
   ]
  },
  {
   "cell_type": "code",
   "execution_count": null,
   "metadata": {},
   "outputs": [],
   "source": [
    "from package.plotting_data import oneD_param_sweep_plot\n",
    "oneD_param_sweep_plot.main(    \n",
    "    fileName = fileName_Figure_6,\n",
    "    GRAPH_TYPE = 1,\n",
    "    )"
   ]
  },
  {
   "attachments": {},
   "cell_type": "markdown",
   "metadata": {},
   "source": [
    "Figure 7: Total emissions and relative percentage change between cases with and without green influencers\n",
    "\n",
    "WARNING: As there are a large number of runs in the data used to generate this plot it will take a considerable time. We cover 256 parameter combinations, averaging over 10 different stochastic initial conditions. First run for low confirmation bias, then high. We also set the degree of polarisation of the attitude distribution, as we vary the mean, the greater \"sum_a_b\" the less polarised."
   ]
  },
  {
   "cell_type": "code",
   "execution_count": null,
   "metadata": {},
   "outputs": [],
   "source": [
    "from package.generating_data import adding_green_influencers_gen\n",
    "\n",
    "fileName_Figure_7_low = adding_green_influencers_gen.main(\n",
    "    RUN = 1, \n",
    "    BASE_PARAMS_LOAD = \"package/constants/base_params_add_greens.json\", \n",
    "    param_vary_reps = 200, \n",
    "    green_N = 20, \n",
    "    sum_a_b = 6, \n",
    "    confirmation_bias = 5\n",
    "    )\n",
    "fileName_Figure_7_high = adding_green_influencers_gen.main(\n",
    "    RUN = 1, \n",
    "    BASE_PARAMS_LOAD = \"package/constants/base_params_add_greens.json\", \n",
    "    param_vary_reps = 200, \n",
    "    green_N = 20, \n",
    "    sum_a_b = 6, \n",
    "    confirmation_bias = 20\n",
    "    )"
   ]
  },
  {
   "cell_type": "code",
   "execution_count": null,
   "metadata": {},
   "outputs": [],
   "source": [
    "fileName_Figure_7_low = \"results/...\"\n",
    "fileName_Figure_7_high = \"results/...\""
   ]
  },
  {
   "cell_type": "code",
   "execution_count": null,
   "metadata": {},
   "outputs": [],
   "source": [
    "from package.plotting_data import adding_green_influencers_plot\n",
    "fileName_Figure_7 = adding_green_influencers_plot.main(\n",
    "    fileName_list = [fileName_Figure_7_low,fileName_Figure_7_high],\n",
    ")\n"
   ]
  },
  {
   "cell_type": "markdown",
   "metadata": {},
   "source": [
    "Figure 8: Sobol sensitivity analysis of model parameters.\n",
    "\n",
    "WARNING: As there are a large number of runs in the data used to generate this plot it will take a considerable time. In the case of the Figure 8 we ran 76800 experiments, this took approximately 1 week on a server with 40 cores. Reduce \"N_samples\" to decrease run time, must be a power of two."
   ]
  },
  {
   "cell_type": "code",
   "execution_count": null,
   "metadata": {},
   "outputs": [],
   "source": [
    "from package.generating_data import sensitivity_analysis_gen\n",
    "fileName_Figure_8 = sensitivity_analysis_gen.main(\n",
    "    N_samples = 1024,\n",
    "    BASE_PARAMS_LOAD = \"package/constants/base_params.json\",\n",
    "    VARIABLE_PARAMS_LOAD = \"package/constants/variable_parameters_dict_SA.json\"\n",
    ")"
   ]
  },
  {
   "cell_type": "code",
   "execution_count": null,
   "metadata": {},
   "outputs": [],
   "source": [
    "fileName_Figure_8 = \"results/...\""
   ]
  },
  {
   "cell_type": "code",
   "execution_count": null,
   "metadata": {},
   "outputs": [],
   "source": [
    "from package.plotting_data import sensitivity_analysis_plot\n",
    "sensitivity_analysis_plot.main(    \n",
    "    fileName = fileName_Figure_8\n",
    "    )"
   ]
  },
  {
   "cell_type": "markdown",
   "metadata": {},
   "source": [
    "Figure 9: The beta distribution "
   ]
  },
  {
   "cell_type": "code",
   "execution_count": null,
   "metadata": {},
   "outputs": [],
   "source": [
    "from package.plotting_data import init_distribution_example\n",
    "init_distribution_example.main(\n",
    "    a_b_combo_list = [[5,5],[2,3],[1,1],[0.1,0.1]],\n",
    "    )"
   ]
  },
  {
   "cell_type": "markdown",
   "metadata": {},
   "source": [
    "Figure 10: The initial distribution of individuals’ attitudes correlates strongly with the total societal emissions per agent and behaviour.\n",
    "\n",
    "WARNING: As there are a large number of runs in the data used to generate this plot it will take a considerable time. We cover 4096 parameter combinations, averaging over 5 different stochastic initial conditions for a total of 20480 experiments."
   ]
  },
  {
   "cell_type": "code",
   "execution_count": null,
   "metadata": {},
   "outputs": [],
   "source": [
    "from package.generating_data import twoD_param_sweep_gen\n",
    "fileName_Figure_10 = twoD_param_sweep_gen.main(\n",
    "    BASE_PARAMS_LOAD = \"package/constants/base_params.json\",\n",
    "    VARIABLE_PARAMS_LOAD = \"package/constants/variable_parameters_dict_2D.json\"\n",
    ")"
   ]
  },
  {
   "cell_type": "code",
   "execution_count": null,
   "metadata": {},
   "outputs": [],
   "source": [
    "fileName_Figure_10 = \"results/...\""
   ]
  },
  {
   "cell_type": "code",
   "execution_count": null,
   "metadata": {},
   "outputs": [],
   "source": [
    "from package.plotting_data import twoD_param_sweep_plot\n",
    "twoD_param_sweep_plot.main(    \n",
    "    fileName = fileName_Figure_10,\n",
    "    levels = 10,\n",
    "    )"
   ]
  },
  {
   "cell_type": "markdown",
   "metadata": {},
   "source": [
    "Figure 11: Within \"identity bubbles\" there is uniform weighting amongst neighbours.\n",
    "\n",
    "WARNING: Need to run the data generation from package.Figure 7"
   ]
  },
  {
   "cell_type": "code",
   "execution_count": null,
   "metadata": {},
   "outputs": [],
   "source": [
    "from package.plotting_data import identity_frequency_plot\n",
    "identity_frequency_plot.main(    \n",
    "    fileName = fileName_Figure_5,#Load the data used from package.Figure 7\n",
    "    data_analysis_clusters = 1,\n",
    "    micro_clusters_plot = 1,\n",
    "    )"
   ]
  },
  {
   "cell_type": "markdown",
   "metadata": {},
   "source": [
    "Figure 12: Sensitivity analysis for green influencers"
   ]
  },
  {
   "cell_type": "code",
   "execution_count": null,
   "metadata": {},
   "outputs": [],
   "source": [
    "from package.generating_data import sensitivity_analysis_green_gen\n",
    "fileName_Figure_12 = sensitivity_analysis_green_gen.main(\n",
    "    N_samples = 128,\n",
    "    BASE_PARAMS_LOAD = \"package/constants/base_params_SA_green_short.json\",\n",
    "    VARIABLE_PARAMS_LOAD = \"package/constants/variable_parameters_dict_SA_green_short_paper.json\",\n",
    ")"
   ]
  },
  {
   "cell_type": "code",
   "execution_count": null,
   "metadata": {},
   "outputs": [],
   "source": [
    "fileName_Figure_12 = \"results/...\""
   ]
  },
  {
   "cell_type": "code",
   "execution_count": null,
   "metadata": {},
   "outputs": [],
   "source": [
    "from package.plotting_data import sensitivity_analysis_green_plot\n",
    "sensitivity_analysis_green_plot.main(    \n",
    "    fileName = fileName_Figure_12\n",
    "    )"
   ]
  }
 ],
 "metadata": {
  "kernelspec": {
   "display_name": "venv",
   "language": "python",
   "name": "python3"
  },
  "language_info": {
   "name": "python",
   "version": "3.11.1"
  }
 },
 "nbformat": 4,
 "nbformat_minor": 2
}
