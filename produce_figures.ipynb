{
 "cells": [
  {
   "attachments": {},
   "cell_type": "markdown",
   "metadata": {},
   "source": [
    "In the following notebook is contained the code required to reproduce each of the figures found in the paper.\n",
    "\n",
    "[What are the prerequisites to running this?]\n",
    "\n",
    "Figure 2: Discount array r\"$D_t$\"."
   ]
  },
  {
   "cell_type": "code",
   "execution_count": 1,
   "metadata": {},
   "outputs": [
    {
     "ename": "ModuleNotFoundError",
     "evalue": "No module named 'individuals'",
     "output_type": "error",
     "traceback": [
      "\u001b[1;31m---------------------------------------------------------------------------\u001b[0m",
      "\u001b[1;31mModuleNotFoundError\u001b[0m                       Traceback (most recent call last)",
      "Cell \u001b[1;32mIn[1], line 1\u001b[0m\n\u001b[1;32m----> 1\u001b[0m \u001b[39mfrom\u001b[39;00m \u001b[39mplotting_data\u001b[39;00m \u001b[39mimport\u001b[39;00m hyperbolic_discounting_example\n\u001b[0;32m      2\u001b[0m hyperbolic_discounting_example\u001b[39m.\u001b[39mmain()\n",
      "File \u001b[1;32mc:\\Users\\1621511\\Documents_temp\\Code\\Culture-Network\\plotting_data\\hyperbolic_discounting_example.py:14\u001b[0m\n\u001b[0;32m     12\u001b[0m \u001b[39mimport\u001b[39;00m \u001b[39mmatplotlib\u001b[39;00m\u001b[39m.\u001b[39;00m\u001b[39mpyplot\u001b[39;00m \u001b[39mas\u001b[39;00m \u001b[39mplt\u001b[39;00m\n\u001b[0;32m     13\u001b[0m \u001b[39mimport\u001b[39;00m \u001b[39mnumpy\u001b[39;00m \u001b[39mas\u001b[39;00m \u001b[39mnp\u001b[39;00m\n\u001b[1;32m---> 14\u001b[0m \u001b[39mfrom\u001b[39;00m \u001b[39mresources\u001b[39;00m\u001b[39m.\u001b[39;00m\u001b[39mplot\u001b[39;00m \u001b[39mimport\u001b[39;00m plot_discount_factors_delta\n\u001b[0;32m     16\u001b[0m \u001b[39mdef\u001b[39;00m \u001b[39mmain\u001b[39m(\n\u001b[0;32m     17\u001b[0m     delta_t \u001b[39m=\u001b[39m \u001b[39m1\u001b[39m,\n\u001b[0;32m     18\u001b[0m     culture_momentum \u001b[39m=\u001b[39m \u001b[39m101\u001b[39m,\n\u001b[0;32m     19\u001b[0m     delta_vals \u001b[39m=\u001b[39m [\u001b[39m0.99\u001b[39m,\u001b[39m0.97\u001b[39m,\u001b[39m0.95\u001b[39m,\u001b[39m0.9\u001b[39m,\u001b[39m0.8\u001b[39m],\n\u001b[0;32m     20\u001b[0m     dpi_save \u001b[39m=\u001b[39m \u001b[39m1200\u001b[39m,\n\u001b[0;32m     21\u001b[0m     ) \u001b[39m-\u001b[39m\u001b[39m>\u001b[39m \u001b[39mNone\u001b[39;00m: \n\u001b[0;32m     23\u001b[0m     steps \u001b[39m=\u001b[39m \u001b[39mint\u001b[39m(culture_momentum \u001b[39m/\u001b[39m delta_t)\n",
      "File \u001b[1;32mc:\\Users\\1621511\\Documents_temp\\Code\\Culture-Network\\resources\\plot.py:23\u001b[0m\n\u001b[0;32m     21\u001b[0m \u001b[39mfrom\u001b[39;00m \u001b[39mtyping\u001b[39;00m \u001b[39mimport\u001b[39;00m Union\n\u001b[0;32m     22\u001b[0m \u001b[39m#from pydlc import dense_lines\u001b[39;00m\n\u001b[1;32m---> 23\u001b[0m \u001b[39mfrom\u001b[39;00m \u001b[39mmodel\u001b[39;00m\u001b[39m.\u001b[39;00m\u001b[39mnetwork\u001b[39;00m \u001b[39mimport\u001b[39;00m Network\n\u001b[0;32m     24\u001b[0m \u001b[39mimport\u001b[39;00m \u001b[39mjoypy\u001b[39;00m\n\u001b[0;32m     25\u001b[0m \u001b[39m#from resources.utility import calc_num_clusters_auto_bandwidth\u001b[39;00m\n",
      "File \u001b[1;32mc:\\Users\\1621511\\Documents_temp\\Code\\Culture-Network\\model\\network.py:15\u001b[0m\n\u001b[0;32m     13\u001b[0m \u001b[39mimport\u001b[39;00m \u001b[39mnetworkx\u001b[39;00m \u001b[39mas\u001b[39;00m \u001b[39mnx\u001b[39;00m\n\u001b[0;32m     14\u001b[0m \u001b[39mimport\u001b[39;00m \u001b[39mnumpy\u001b[39;00m\u001b[39m.\u001b[39;00m\u001b[39mtyping\u001b[39;00m \u001b[39mas\u001b[39;00m \u001b[39mnpt\u001b[39;00m\n\u001b[1;32m---> 15\u001b[0m \u001b[39mfrom\u001b[39;00m \u001b[39mindividuals\u001b[39;00m \u001b[39mimport\u001b[39;00m Individual\n\u001b[0;32m     16\u001b[0m \u001b[39mfrom\u001b[39;00m \u001b[39mgreen_individuals\u001b[39;00m \u001b[39mimport\u001b[39;00m Green_individual\n\u001b[0;32m     17\u001b[0m \u001b[39mfrom\u001b[39;00m \u001b[39mgreen_fountains\u001b[39;00m \u001b[39mimport\u001b[39;00m Green_fountain\n",
      "\u001b[1;31mModuleNotFoundError\u001b[0m: No module named 'individuals'"
     ]
    }
   ],
   "source": [
    "from plotting_data import hyperbolic_discounting_example\n",
    "hyperbolic_discounting_example.main()"
   ]
  },
  {
   "attachments": {},
   "cell_type": "markdown",
   "metadata": {},
   "source": [
    "Figure 4: Time series of individual’s environmental identity.\n",
    "\n",
    "First we generate the data from the three cases A, B and C."
   ]
  },
  {
   "cell_type": "code",
   "execution_count": null,
   "metadata": {},
   "outputs": [],
   "source": [
    "from generating_data import oneD_param_sweep_gen\n",
    "fileName_Figure_4 = oneD_param_sweep_gen.main(\n",
    "    RUN_NAME = \"SINGLE\", \n",
    "    RUN_TYPE = 0\n",
    "    )"
   ]
  },
  {
   "attachments": {},
   "cell_type": "markdown",
   "metadata": {},
   "source": [
    "Next we plot the time series"
   ]
  },
  {
   "cell_type": "code",
   "execution_count": null,
   "metadata": {},
   "outputs": [],
   "source": [
    "from plotting_data import oneD_param_sweep_plot\n",
    "oneD_param_sweep_plot.main(    \n",
    "    fileName = fileName_Figure_4,\n",
    "    PLOT_NAME = \"SINGLE\",\n",
    "    GRAPH_TYPE = 0,\n",
    "    )"
   ]
  },
  {
   "attachments": {},
   "cell_type": "markdown",
   "metadata": {},
   "source": [
    "Figure 5: Bifurcation diagram.\n",
    "\n",
    "WARNING: As there are a large number of runs in the data used to generate this plot it will take a considerable time.\n",
    "\n",
    "We first generate the data for cases with behavioural interdependancy and then for behavioral independance."
   ]
  },
  {
   "cell_type": "code",
   "execution_count": null,
   "metadata": {},
   "outputs": [],
   "source": [
    "from generating_data import bifurcation_gen\n",
    "fileName_Figure_5 = bifurcation_gen.main(\n",
    "    RUN_NAME = \"SINGLE\",\n",
    "    bandwidth = 0.01,\n",
    "    )"
   ]
  },
  {
   "attachments": {},
   "cell_type": "markdown",
   "metadata": {},
   "source": [
    "Next plot the results for both cases."
   ]
  },
  {
   "cell_type": "code",
   "execution_count": null,
   "metadata": {},
   "outputs": [],
   "source": [
    "from plotting_data import bifurcation_plot\n",
    "bifurcation_plot.main(    \n",
    "    fileName = fileName_Figure_5,\n",
    "    PLOT_NAME = \"SINGLE\",\n",
    "    bifurcation_plot_data_analysis = 1,\n",
    "    )"
   ]
  },
  {
   "attachments": {},
   "cell_type": "markdown",
   "metadata": {},
   "source": [
    "Figure 6: Sobol sensitivity analysis of model parameters.\n",
    "\n",
    "WARNING: As there are a large number of runs in the data used to generate this plot it will take a considerable time. In the case of the Figure 7 we ran 76800 experiments, this took approximately 1 week on a server with 40 cores."
   ]
  },
  {
   "cell_type": "code",
   "execution_count": null,
   "metadata": {},
   "outputs": [],
   "source": [
    "from generating_data import sensitivity_analysis_gen\n",
    "fileName_Figure_6 = sensitivity_analysis_gen.main(\n",
    "    N_samples = 1024,\n",
    "    calc_second_order = False\n",
    "    )"
   ]
  },
  {
   "cell_type": "code",
   "execution_count": null,
   "metadata": {},
   "outputs": [],
   "source": [
    "from plotting_data import sensitivity_analysis_plot\n",
    "sensitivity_analysis_plot.main(    \n",
    "    fileName = fileName_Figure_6,\n",
    "    SECOND_ORDER = 0,\n",
    "    )"
   ]
  },
  {
   "attachments": {},
   "cell_type": "markdown",
   "metadata": {},
   "source": [
    "Figure 7: Three scenarios of differing identity updating frequency."
   ]
  },
  {
   "cell_type": "code",
   "execution_count": null,
   "metadata": {},
   "outputs": [],
   "source": [
    "from generating_data import oneD_param_sweep_gen\n",
    "fileName_Figure_7 = oneD_param_sweep_gen.main(\n",
    "    RUN_NAME = \"SINGLE\", \n",
    "    RUN_TYPE = 1\n",
    "    )"
   ]
  },
  {
   "cell_type": "code",
   "execution_count": null,
   "metadata": {},
   "outputs": [],
   "source": [
    "from plotting_data import oneD_param_sweep_plot\n",
    "oneD_param_sweep_plot.main(    \n",
    "    fileName = fileName_Figure_7,\n",
    "    PLOT_NAME = \"SINGLE\",\n",
    "    GRAPH_TYPE = 1,\n",
    "    )"
   ]
  },
  {
   "attachments": {},
   "cell_type": "markdown",
   "metadata": {},
   "source": [
    "Figure 8: Decreasing initial identity homophily results in faster consensus formation in the network."
   ]
  },
  {
   "cell_type": "code",
   "execution_count": null,
   "metadata": {},
   "outputs": [],
   "source": [
    "from generating_data import oneD_param_sweep_gen\n",
    "fileName_Figure_8 = oneD_param_sweep_gen.main(\n",
    "    RUN_NAME = \"SINGLE\", \n",
    "    RUN_TYPE = 2\n",
    "    )"
   ]
  },
  {
   "cell_type": "code",
   "execution_count": null,
   "metadata": {},
   "outputs": [],
   "source": [
    "from plotting_data import oneD_param_sweep_plot\n",
    "oneD_param_sweep_plot.main(    \n",
    "    fileName = fileName_Figure_8,\n",
    "    PLOT_NAME = \"SINGLE\",\n",
    "    GRAPH_TYPE = 2,\n",
    "    )"
   ]
  },
  {
   "attachments": {},
   "cell_type": "markdown",
   "metadata": {},
   "source": [
    "Figure 9: Mean emissions change of an individual between cases with and without green influencers\n",
    "\n",
    "WARNING: As there are a large number of runs in the data used to generate this plot it will take a considerable time."
   ]
  },
  {
   "cell_type": "code",
   "execution_count": null,
   "metadata": {},
   "outputs": [],
   "source": [
    "from generating_data import splitting_eco_warrior_gen\n",
    "fileName_Figure_9 = splitting_eco_warrior_gen.main(\n",
    "    RUN_NAME = \"ADD_GREENS_MULTI_A_B\"\n",
    "    )"
   ]
  },
  {
   "cell_type": "code",
   "execution_count": null,
   "metadata": {},
   "outputs": [],
   "source": [
    "from plotting_data import splitting_eco_warrior_plot\n",
    "splitting_eco_warrior_plot.main(    \n",
    "    fileName = fileName_Figure_8,\n",
    "    PLOT_NAME = \"ADD_GREENS_MULTI_A_B\"\n",
    "    )    "
   ]
  },
  {
   "attachments": {},
   "cell_type": "markdown",
   "metadata": {},
   "source": [
    "Figure 10: The beta distribution "
   ]
  },
  {
   "cell_type": "code",
   "execution_count": null,
   "metadata": {},
   "outputs": [],
   "source": [
    "from plotting_data import init_distribution_example\n",
    "init_distribution_example.main(\n",
    "    a_b_combo_list = [[2,5],[2,2],[5,2]],\n",
    "    )"
   ]
  },
  {
   "attachments": {},
   "cell_type": "markdown",
   "metadata": {},
   "source": [
    "Figure 11: The initial distribution of individuals’ attitudes correlates strongly with the total societal emissions per agent and behaviour.\n",
    "\n",
    "WARNING: As there are a large number of runs in the data used to generate this plot it will take a considerable time."
   ]
  },
  {
   "cell_type": "code",
   "execution_count": null,
   "metadata": {},
   "outputs": [],
   "source": [
    "from generating_data import twoD_param_sweep_gen\n",
    "fileName_Figure_11 = twoD_param_sweep_gen.main(\n",
    "    RUN_NAME = \"MULTI\"\n",
    "    )"
   ]
  },
  {
   "cell_type": "code",
   "execution_count": null,
   "metadata": {},
   "outputs": [],
   "source": [
    "from plotting_data import oneD_param_sweep_plot\n",
    "oneD_param_sweep_plot.main(    \n",
    "    fileName = fileName_Figure_11,\n",
    "    PLOT_NAME = \"MULTI\",\n",
    "    PLOT_TYPE = \"ab_plot\"\n",
    "    )"
   ]
  },
  {
   "attachments": {},
   "cell_type": "markdown",
   "metadata": {},
   "source": [
    "Figure 12: Within \"identity bubbles‘ there is uniform weighting amongst neighbours."
   ]
  },
  {
   "cell_type": "code",
   "execution_count": null,
   "metadata": {},
   "outputs": [],
   "source": [
    "from generating_data import alpha_change_micro_consensus_gen\n",
    "fileName_Figure_12 = alpha_change_micro_consensus_gen.main()"
   ]
  },
  {
   "cell_type": "code",
   "execution_count": null,
   "metadata": {},
   "outputs": [],
   "source": [
    "from plotting_data import alpha_change_micro_consensus_plot\n",
    "oneD_param_sweep_plot.main(    \n",
    "    fileName = fileName_Figure_12,\n",
    "    data_analysis_clusters = 1,\n",
    "    micro_clusters_plot = 1,\n",
    "    joint_cluster_micro = 1,\n",
    "    )"
   ]
  }
 ],
 "metadata": {
  "kernelspec": {
   "display_name": "venv",
   "language": "python",
   "name": "python3"
  },
  "language_info": {
   "codemirror_mode": {
    "name": "ipython",
    "version": 3
   },
   "file_extension": ".py",
   "mimetype": "text/x-python",
   "name": "python",
   "nbconvert_exporter": "python",
   "pygments_lexer": "ipython3",
   "version": "3.11.1"
  },
  "orig_nbformat": 4,
  "vscode": {
   "interpreter": {
    "hash": "33d2bf0625e63c84e06378aa53a9199ac5744707087a5b3a56c91a4a2e163319"
   }
  }
 },
 "nbformat": 4,
 "nbformat_minor": 2
}
