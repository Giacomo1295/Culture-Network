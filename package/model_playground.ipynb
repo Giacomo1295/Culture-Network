{
 "cells": [
  {
   "cell_type": "markdown",
   "metadata": {},
   "source": [
    "Here we explore the effect of model components on a variety of outcomes. Please feel free to play around with it yourself!\n",
    "\n",
    "First we run a single experment, to do so we need to define the model run parameters."
   ]
  },
  {
   "cell_type": "code",
   "execution_count": 1,
   "metadata": {},
   "outputs": [],
   "source": [
    "base_params = {\n",
    "    \"save_timeseries_data\": 1, \n",
    "    \"alpha_change\" : \"C\",\n",
    "    \"time_steps_max\": 3000,\n",
    "    \"phi_lower\": 0.01,\n",
    "    \"phi_upper\": 0.05,\n",
    "    \"compression_factor\": 10,\n",
    "    \"set_seed\": 2,\n",
    "    \"N\": 50,\n",
    "    \"M\": 3,\n",
    "    \"K\": 5,\n",
    "    \"prob_rewire\": 0.1,\n",
    "    \"culture_momentum\": 1000,\n",
    "    \"learning_error_scale\": 0.02,\n",
    "    \"discount_factor\": 0.95,\n",
    "    \"homophily\": 0.95,\n",
    "    \"confirmation_bias\": 40,\n",
    "    \"a_attitude\": 1,\n",
    "    \"b_attitude\": 1,\n",
    "    \"a_threshold\": 1,\n",
    "    \"b_threshold\": 1,\n",
    "    \"green_N\": 0,\n",
    "}"
   ]
  },
  {
   "cell_type": "code",
   "execution_count": 2,
   "metadata": {},
   "outputs": [
    {
     "ename": "ValueError",
     "evalue": "source code string cannot contain null bytes",
     "output_type": "error",
     "traceback": [
      "\u001b[1;31m---------------------------------------------------------------------------\u001b[0m",
      "\u001b[1;31mValueError\u001b[0m                                Traceback (most recent call last)",
      "Cell \u001b[1;32mIn[2], line 1\u001b[0m\n\u001b[1;32m----> 1\u001b[0m \u001b[39mfrom\u001b[39;00m \u001b[39mgenerating_data\u001b[39;00m \u001b[39mimport\u001b[39;00m single_experiment_gen\n\u001b[0;32m      2\u001b[0m fileName \u001b[39m=\u001b[39m single_experiment_gen\u001b[39m.\u001b[39mmain(\n\u001b[0;32m      3\u001b[0m     base_params \u001b[39m=\u001b[39m base_params\n\u001b[0;32m      4\u001b[0m )\n",
      "File \u001b[1;32mc:\\Users\\1621511\\Documents_temp\\Code\\Culture-Network\\package\\generating_data\\single_experiment_gen.py:11\u001b[0m\n\u001b[0;32m      1\u001b[0m \u001b[39m\"\"\"Runs a single simulation to produce data which is saved\u001b[39;00m\n\u001b[0;32m      2\u001b[0m \n\u001b[0;32m      3\u001b[0m \u001b[39mA module that use dictionary of data for the simulation run. The single shot simualtion is run\u001b[39;00m\n\u001b[1;32m   (...)\u001b[0m\n\u001b[0;32m      8\u001b[0m \u001b[39mCreated: 10/10/2022\u001b[39;00m\n\u001b[0;32m      9\u001b[0m \u001b[39m\"\"\"\u001b[39;00m\n\u001b[0;32m     10\u001b[0m \u001b[39m# imports\u001b[39;00m\n\u001b[1;32m---> 11\u001b[0m \u001b[39mfrom\u001b[39;00m \u001b[39mresources\u001b[39;00m\u001b[39m.\u001b[39;00m\u001b[39mrun\u001b[39;00m \u001b[39mimport\u001b[39;00m generate_data\n\u001b[0;32m     12\u001b[0m \u001b[39mfrom\u001b[39;00m \u001b[39mresources\u001b[39;00m\u001b[39m.\u001b[39;00m\u001b[39mutility\u001b[39;00m \u001b[39mimport\u001b[39;00m (\n\u001b[0;32m     13\u001b[0m     createFolder, \n\u001b[0;32m     14\u001b[0m     save_object, \n\u001b[0;32m     15\u001b[0m     produce_name_datetime\n\u001b[0;32m     16\u001b[0m )\n\u001b[0;32m     18\u001b[0m \u001b[39mdef\u001b[39;00m \u001b[39mmain\u001b[39m(\n\u001b[0;32m     19\u001b[0m     base_params\n\u001b[0;32m     20\u001b[0m ) \u001b[39m-\u001b[39m\u001b[39m>\u001b[39m \u001b[39mstr\u001b[39m: \n",
      "File \u001b[1;32mc:\\Users\\1621511\\Documents_temp\\Code\\Culture-Network\\package\\resources\\run.py:16\u001b[0m\n\u001b[0;32m     14\u001b[0m \u001b[39mfrom\u001b[39;00m \u001b[39mjoblib\u001b[39;00m \u001b[39mimport\u001b[39;00m Parallel, delayed\n\u001b[0;32m     15\u001b[0m \u001b[39mimport\u001b[39;00m \u001b[39mmultiprocessing\u001b[39;00m\n\u001b[1;32m---> 16\u001b[0m \u001b[39mfrom\u001b[39;00m \u001b[39mmodel\u001b[39;00m\u001b[39m.\u001b[39;00m\u001b[39mnetwork\u001b[39;00m \u001b[39mimport\u001b[39;00m Network\n\u001b[0;32m     18\u001b[0m \u001b[39m# modules\u001b[39;00m\n\u001b[0;32m     19\u001b[0m \u001b[39m####SINGLE SHOT RUN\u001b[39;00m\n\u001b[0;32m     20\u001b[0m \u001b[39mdef\u001b[39;00m \u001b[39mgenerate_data\u001b[39m(parameters: \u001b[39mdict\u001b[39m,print_simu \u001b[39m=\u001b[39m \u001b[39m0\u001b[39m) \u001b[39m-\u001b[39m\u001b[39m>\u001b[39m Network:\n",
      "File \u001b[1;32mc:\\Users\\1621511\\Documents_temp\\Code\\Culture-Network\\package\\model\\network.py:15\u001b[0m\n\u001b[0;32m     13\u001b[0m \u001b[39mimport\u001b[39;00m \u001b[39mnetworkx\u001b[39;00m \u001b[39mas\u001b[39;00m \u001b[39mnx\u001b[39;00m\n\u001b[0;32m     14\u001b[0m \u001b[39mimport\u001b[39;00m \u001b[39mnumpy\u001b[39;00m\u001b[39m.\u001b[39;00m\u001b[39mtyping\u001b[39;00m \u001b[39mas\u001b[39;00m \u001b[39mnpt\u001b[39;00m\n\u001b[1;32m---> 15\u001b[0m \u001b[39mfrom\u001b[39;00m \u001b[39mmodel\u001b[39;00m\u001b[39m.\u001b[39;00m\u001b[39mindividuals\u001b[39;00m \u001b[39mimport\u001b[39;00m Individual\n\u001b[0;32m     16\u001b[0m \u001b[39mfrom\u001b[39;00m \u001b[39mmodel\u001b[39;00m\u001b[39m.\u001b[39;00m\u001b[39mgreen_influencers\u001b[39;00m \u001b[39mimport\u001b[39;00m Green_influencer\n\u001b[0;32m     18\u001b[0m \u001b[39m# modules\u001b[39;00m\n",
      "\u001b[1;31mValueError\u001b[0m: source code string cannot contain null bytes"
     ]
    }
   ],
   "source": [
    "from generating_data import single_experiment_gen\n",
    "fileName = single_experiment_gen.main(\n",
    "    base_params = base_params\n",
    ")"
   ]
  },
  {
   "attachments": {},
   "cell_type": "markdown",
   "metadata": {},
   "source": [
    "Next we produce a variety of plots relating to the dynamics of indivduals"
   ]
  },
  {
   "cell_type": "code",
   "execution_count": null,
   "metadata": {},
   "outputs": [],
   "source": [
    "from plotting_data import single_experiment_plot\n",
    "single_experiment_plot.main(\n",
    "    fileName = fileName,\n",
    "    PLOT_NAME = \"INDIVIDUAL\",\n",
    ")"
   ]
  },
  {
   "cell_type": "markdown",
   "metadata": {},
   "source": [
    "What about properties of the network as a whole?"
   ]
  },
  {
   "cell_type": "code",
   "execution_count": null,
   "metadata": {},
   "outputs": [],
   "source": [
    "from plotting_data import single_experiment_plot\n",
    "single_experiment_plot.main(\n",
    "    fileName = fileName,\n",
    "    PLOT_NAME = \"NETWORK\",\n",
    ")"
   ]
  },
  {
   "attachments": {},
   "cell_type": "markdown",
   "metadata": {},
   "source": [
    "We identify identity bubbles or clusters that form in the model using a Gaussain density estimator and look at how the average link strength between members of those identity bubbles changes over time as bubbles merge.\n",
    "\n",
    "If you see what appears to be one identity bubble being identified as two, try raising the bandwidth."
   ]
  },
  {
   "cell_type": "code",
   "execution_count": null,
   "metadata": {},
   "outputs": [],
   "source": [
    "from plotting_data import single_experiment_plot\n",
    "single_experiment_plot.main(\n",
    "    fileName = fileName,\n",
    "    PLOT_NAME = \"CLUSTERING\",\n",
    "    bandwidth = 0.01\n",
    ")"
   ]
  },
  {
   "cell_type": "markdown",
   "metadata": {},
   "source": [
    "Next, let´s produce an animation of how the environmental identity and inter-agent weighings changes over time. It will be easier to see dynamics in the animation for lower numbers of indviduals N, around 50 works well (lower K to keep a constant network density).\n",
    "\n",
    "If you would like to save the animation this requires the installation of FFMpegWriter see: https://holypython.com/how-to-save-matplotlib-animations-the-ultimate-guide/"
   ]
  },
  {
   "cell_type": "code",
   "execution_count": null,
   "metadata": {
    "scrolled": true
   },
   "outputs": [],
   "source": [
    "%matplotlib widget\n",
    "from plotting_data import single_experiment_plot\n",
    "single_experiment_plot.main(\n",
    "    fileName = fileName,\n",
    "    PLOT_NAME = \"ANIMATION\",\n",
    "    animation_save_bool=0\n",
    ")"
   ]
  }
 ],
 "metadata": {
  "kernelspec": {
   "display_name": "venv",
   "language": "python",
   "name": "python3"
  },
  "language_info": {
   "codemirror_mode": {
    "name": "ipython",
    "version": 3
   },
   "file_extension": ".py",
   "mimetype": "text/x-python",
   "name": "python",
   "nbconvert_exporter": "python",
   "pygments_lexer": "ipython3",
   "version": "3.11.1"
  },
  "vscode": {
   "interpreter": {
    "hash": "33d2bf0625e63c84e06378aa53a9199ac5744707087a5b3a56c91a4a2e163319"
   }
  }
 },
 "nbformat": 4,
 "nbformat_minor": 2
}
