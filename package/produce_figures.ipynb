{
 "cells": [
  {
   "cell_type": "code",
   "execution_count": null,
   "metadata": {},
   "outputs": [],
   "source": [
    "from package.generating_data import add_green_gen_alt\n",
    "fileName_Figure_22 = add_green_gen_alt.main(\n",
    "    RUN = 0,\n",
    "    fileName = \"results/green_influencers_culture_four_18_04_33__14_02_2023\",\n",
    "    BASE_PARAMS_LOAD = \"package/constants/base_params_alt.json\"\n",
    ")"
   ]
  },
  {
   "attachments": {},
   "cell_type": "markdown",
   "metadata": {},
   "source": [
    "In the following notebook is contained the code required to reproduce each of the figures found in the paper.\n",
    "\n",
    "Figure 2: Discount array \"$D_t$\"."
   ]
  },
  {
   "cell_type": "code",
   "execution_count": null,
   "metadata": {},
   "outputs": [],
   "source": [
    "from package.plotting_data import hyperbolic_discounting_example\n",
    "hyperbolic_discounting_example.main()"
   ]
  },
  {
   "cell_type": "markdown",
   "metadata": {},
   "source": [
    "Figure 4: Time series of individual’s environmental identity.\n",
    "\n",
    "First we generate the data from the three cases A, B and C."
   ]
  },
  {
   "cell_type": "code",
   "execution_count": null,
   "metadata": {},
   "outputs": [],
   "source": [
    "from package.generating_data import oneD_param_sweep_gen\n",
    "fileName_Figure_4 = oneD_param_sweep_gen.main(\n",
    "    RUN_TYPE = 0,\n",
    "    BASE_PARAMS_LOAD = \"package/constants/base_params.json\"\n",
    "    )"
   ]
  },
  {
   "cell_type": "markdown",
   "metadata": {},
   "source": [
    "Next we plot the time series"
   ]
  },
  {
   "cell_type": "code",
   "execution_count": null,
   "metadata": {},
   "outputs": [],
   "source": [
    "from package.plotting_data import oneD_param_sweep_plot\n",
    "oneD_param_sweep_plot.main(    \n",
    "    fileName = fileName_Figure_4,\n",
    "    GRAPH_TYPE = 0\n",
    "    )"
   ]
  },
  {
   "attachments": {},
   "cell_type": "markdown",
   "metadata": {},
   "source": [
    "Figure 5: Bifurcation diagram.\n",
    "\n",
    "WARNING: As there are a large number of runs in the data used to generate this plot it will take a considerable time. We cover 1000 parameter combinations. Can reduce \"reps\" to decrease this for lower resolution results."
   ]
  },
  {
   "cell_type": "code",
   "execution_count": null,
   "metadata": {},
   "outputs": [],
   "source": [
    "from package.generating_data import bifurcation_gen\n",
    "fileName_Figure_5 = bifurcation_gen.main(\n",
    "    BASE_PARAMS_LOAD = \"package/constants/base_params.json\",\n",
    "    param_min = 0.0,\n",
    "    param_max = 100.0,\n",
    "    reps = 500,\n",
    "    bandwidth = 0.01\n",
    "    )"
   ]
  },
  {
   "attachments": {},
   "cell_type": "markdown",
   "metadata": {},
   "source": [
    "Alternatively load in data from another run"
   ]
  },
  {
   "cell_type": "code",
   "execution_count": null,
   "metadata": {},
   "outputs": [],
   "source": [
    "fileName_Figure_5 = \"results/...\""
   ]
  },
  {
   "cell_type": "markdown",
   "metadata": {},
   "source": [
    "Next plot the results for both cases."
   ]
  },
  {
   "cell_type": "code",
   "execution_count": null,
   "metadata": {},
   "outputs": [],
   "source": [
    "from package.plotting_data import bifurcation_plot\n",
    "bifurcation_plot.main(    \n",
    "    fileName = fileName_Figure_5,\n",
    "    bifurcation_plot_data_analysis = 0,\n",
    "    )"
   ]
  },
  {
   "attachments": {},
   "cell_type": "markdown",
   "metadata": {},
   "source": [
    "Figure 6: Sobol sensitivity analysis of model parameters.\n",
    "\n",
    "WARNING: As there are a large number of runs in the data used to generate this plot it will take a considerable time. In the case of the Figure 7 we ran 76800 experiments, this took approximately 1 week on a server with 40 cores. Reduce \"N_samples\" to decrease run time, must be a power of two."
   ]
  },
  {
   "cell_type": "code",
   "execution_count": null,
   "metadata": {},
   "outputs": [],
   "source": [
    "from package.generating_data import sensitivity_analysis_gen\n",
    "fileName_Figure_6 = sensitivity_analysis_gen.main(\n",
    "    N_samples = 1024,\n",
    "    BASE_PARAMS_LOAD = \"package/constants/base_params.json\",\n",
    "    VARIABLE_PARAMS_LOAD = \"package/constants/variable_parameters_dict_SA.json\"\n",
    ")"
   ]
  },
  {
   "cell_type": "code",
   "execution_count": null,
   "metadata": {},
   "outputs": [],
   "source": [
    "fileName_Figure_6 = \"results/...\""
   ]
  },
  {
   "cell_type": "code",
   "execution_count": null,
   "metadata": {},
   "outputs": [],
   "source": [
    "from package.plotting_data import sensitivity_analysis_plot\n",
    "sensitivity_analysis_plot.main(    \n",
    "    fileName = fileName_Figure_6,\n",
    "    )"
   ]
  },
  {
   "cell_type": "markdown",
   "metadata": {},
   "source": [
    "Figure 7: Three scenarios of differing identity updating frequency."
   ]
  },
  {
   "cell_type": "code",
   "execution_count": null,
   "metadata": {},
   "outputs": [],
   "source": [
    "from package.generating_data import identity_frequency_gen\n",
    "fileName_Figure_7 = identity_frequency_gen.main(\n",
    "    BASE_PARAMS_LOAD = \"package/constants/base_params_identity_frequency.json\"\n",
    ")"
   ]
  },
  {
   "cell_type": "code",
   "execution_count": null,
   "metadata": {},
   "outputs": [],
   "source": [
    "\n",
    "from package.plotting_data import identity_frequency_plot\n",
    "identity_frequency_plot.main(    \n",
    "    fileName = fileName_Figure_7,\n",
    "    alpha_change_plot = 1,\n",
    "    bandwidth = 0.01,\n",
    "    )"
   ]
  },
  {
   "cell_type": "markdown",
   "metadata": {},
   "source": [
    "Figure 8: Decreasing initial identity homophily results in faster consensus formation in the network."
   ]
  },
  {
   "cell_type": "code",
   "execution_count": null,
   "metadata": {},
   "outputs": [],
   "source": [
    "from package.generating_data import oneD_param_sweep_gen\n",
    "fileName_Figure_8 = oneD_param_sweep_gen.main( \n",
    "    RUN_TYPE = 1,\n",
    "    BASE_PARAMS_LOAD = \"package/constants/base_params_homophily.json\"\n",
    "    )"
   ]
  },
  {
   "cell_type": "code",
   "execution_count": null,
   "metadata": {},
   "outputs": [],
   "source": [
    "from package.plotting_data import oneD_param_sweep_plot\n",
    "oneD_param_sweep_plot.main(    \n",
    "    fileName = fileName_Figure_8,\n",
    "    GRAPH_TYPE = 1,\n",
    "    )"
   ]
  },
  {
   "attachments": {},
   "cell_type": "markdown",
   "metadata": {},
   "source": [
    "Figure 9: Mean emissions change of an individual between cases with and without green influencers\n",
    "\n",
    "WARNING: As there are a large number of runs in the data used to generate this plot it will take a considerable time. We cover 400 parameter combinations, averaging over 20 different stochastic inital conditions for a total of 8000 experiments. First run for low confirmation bias, then high. We also set the degree of polarisation of the attitude distribution, as we vary the mean, the greater \"sum_a_b\" the less polarised."
   ]
  },
  {
   "cell_type": "code",
   "execution_count": null,
   "metadata": {},
   "outputs": [],
   "source": [
    "from package.generating_data import adding_green_influencers_gen\n",
    "fileName_Figure_9_low = adding_green_influencers_gen.main(\n",
    "    BASE_PARAMS_LOAD = \"package/constants/base_params_add_greens.json\",\n",
    "    green_N = 20,\n",
    "    mean_list_min = 0.01,\n",
    "    mean_list_max = 0.99,\n",
    "    mean_list_reps = 200,\n",
    "    sum_a_b = 4,\n",
    "    confirmation_bias = 5\n",
    ")\n",
    "\n",
    "fileName_Figure_9_high = adding_green_influencers_gen.main(\n",
    "    BASE_PARAMS_LOAD = \"package/constants/base_params_add_greens.json\",\n",
    "    green_N = 20,\n",
    "    mean_list_min = 0.01,\n",
    "    mean_list_max = 0.99,\n",
    "    mean_list_reps = 200,\n",
    "    sum_a_b = 4,\n",
    "    confirmation_bias = 20\n",
    ")"
   ]
  },
  {
   "cell_type": "code",
   "execution_count": null,
   "metadata": {},
   "outputs": [],
   "source": [
    "fileName_Figure_9_low = \"results/...\"\n",
    "fileName_Figure_9_high = \"results/...\""
   ]
  },
  {
   "cell_type": "code",
   "execution_count": null,
   "metadata": {},
   "outputs": [],
   "source": [
    "from package.plotting_data import adding_green_influencers_plot\n",
    "adding_green_influencers_plot.main(    \n",
    "    fileName_add_greens_theta_one = fileName_Figure_9_low,\n",
    "    fileName_add_greens_theta_two = fileName_Figure_9_high\n",
    "    )    "
   ]
  },
  {
   "cell_type": "markdown",
   "metadata": {},
   "source": [
    "Figure 10: The beta distribution "
   ]
  },
  {
   "cell_type": "code",
   "execution_count": null,
   "metadata": {},
   "outputs": [],
   "source": [
    "from package.plotting_data import init_distribution_example\n",
    "init_distribution_example.main(\n",
    "    a_b_combo_list = [[5,5],[2,3],[1,1],[0.1,0.1]],\n",
    "    )"
   ]
  },
  {
   "attachments": {},
   "cell_type": "markdown",
   "metadata": {},
   "source": [
    "Figure 11: The initial distribution of individuals’ attitudes correlates strongly with the total societal emissions per agent and behaviour.\n",
    "\n",
    "WARNING: As there are a large number of runs in the data used to generate this plot it will take a considerable time. We cover 4096 parameter combinations, averaging over 5 different stochastic inital conditions for a total of 20480 experiments."
   ]
  },
  {
   "cell_type": "code",
   "execution_count": null,
   "metadata": {},
   "outputs": [],
   "source": [
    "from package.generating_data import twoD_param_sweep_gen\n",
    "fileName_Figure_11 = twoD_param_sweep_gen.main(\n",
    "    BASE_PARAMS_LOAD = \"package/constants/base_params.json\",\n",
    "    VARIABLE_PARAMS_LOAD = \"package/constants/variable_parameters_dict_2D.json\"\n",
    ")"
   ]
  },
  {
   "cell_type": "code",
   "execution_count": null,
   "metadata": {},
   "outputs": [],
   "source": [
    "fileName_Figure_11 = \"results/...\""
   ]
  },
  {
   "cell_type": "code",
   "execution_count": null,
   "metadata": {},
   "outputs": [],
   "source": [
    "from package.plotting_data import twoD_param_sweep_plot\n",
    "twoD_param_sweep_plot.main(    \n",
    "    fileName = fileName_Figure_11,\n",
    "    levels = 10,\n",
    "    )"
   ]
  },
  {
   "cell_type": "markdown",
   "metadata": {},
   "source": [
    "Figure 12: Within \"identity bubbles\" there is uniform weighting amongst neighbours.\n",
    "\n",
    "WARNING: Need to run the data generation from Figure 7"
   ]
  },
  {
   "cell_type": "code",
   "execution_count": null,
   "metadata": {},
   "outputs": [],
   "source": [
    "from package.plotting_data import identity_frequency_plot\n",
    "identity_frequency_plot.main(    \n",
    "    fileName = fileName_Figure_7,#Load the data used from Figure 7\n",
    "    data_analysis_clusters = 1,\n",
    "    micro_clusters_plot = 1,\n",
    "    )"
   ]
  }
 ],
 "metadata": {
  "kernelspec": {
   "display_name": "venv",
   "language": "python",
   "name": "python3"
  },
  "language_info": {
   "codemirror_mode": {
    "name": "ipython",
    "version": 3
   },
   "file_extension": ".py",
   "mimetype": "text/x-python",
   "name": "python",
   "nbconvert_exporter": "python",
   "pygments_lexer": "ipython3",
   "version": "3.9.2 (tags/v3.9.2:1a79785, Feb 19 2021, 13:44:55) [MSC v.1928 64 bit (AMD64)]"
  },
  "vscode": {
   "interpreter": {
    "hash": "0c11d44ea05e479bceb3238d6d6267ba70621afd7873ac8a7cdcef5505efeee8"
   }
  }
 },
 "nbformat": 4,
 "nbformat_minor": 2
}
