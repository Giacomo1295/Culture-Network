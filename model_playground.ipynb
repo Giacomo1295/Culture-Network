{
 "cells": [
  {
   "cell_type": "markdown",
   "metadata": {},
   "source": [
    "Here we explore the effect of model components on a variety of outcomes. Please feel free to play around with it yourself!\n",
    "\n",
    "First we run a single experment, to do so we need to define the model run parameters."
   ]
  },
  {
   "cell_type": "code",
   "execution_count": null,
   "metadata": {},
   "outputs": [],
   "source": [
    "base_params = {\n",
    "    \"save_timeseries_data\": 1, \n",
    "    \"alpha_change\" : \"dynamic_culturally_determined_weights\",\n",
    "    \"time_steps_max\": 1000,\n",
    "    \"phi_lower\": 0.01,\n",
    "    \"phi_upper\": 0.05,\n",
    "    \"compression_factor\": 10,\n",
    "    \"set_seed\": 2,\n",
    "    \"N\": 50,\n",
    "    \"M\": 3,\n",
    "    \"K\": 5,\n",
    "    \"prob_rewire\": 0.1,\n",
    "    \"culture_inertia\": 1000,\n",
    "    \"learning_error_scale\": 0.02,\n",
    "    \"discount_factor\": 0.95,\n",
    "    \"homophily\": 0.95,\n",
    "    \"confirmation_bias\": 40,\n",
    "    \"a_attitude\": 1,\n",
    "    \"b_attitude\": 1,\n",
    "    \"a_threshold\": 1,\n",
    "    \"b_threshold\": 1,\n",
    "    \"green_N\": 0,\n",
    "}"
   ]
  },
  {
   "cell_type": "code",
   "execution_count": null,
   "metadata": {},
   "outputs": [],
   "source": [
    "from package.generating_data import single_experiment_gen\n",
    "fileName = single_experiment_gen.main(\n",
    "    base_params = base_params\n",
    ")"
   ]
  },
  {
   "cell_type": "markdown",
   "metadata": {},
   "source": [
    "Next we produce a variety of plots relating to the dynamics of indivduals"
   ]
  },
  {
   "cell_type": "code",
   "execution_count": null,
   "metadata": {},
   "outputs": [],
   "source": [
    "from package.plotting_data import single_experiment_plot\n",
    "single_experiment_plot.main(\n",
    "    fileName = fileName,\n",
    "    PLOT_NAME = \"INDIVIDUAL\",\n",
    ")"
   ]
  },
  {
   "cell_type": "markdown",
   "metadata": {},
   "source": [
    "What about properties of the network as a whole?"
   ]
  },
  {
   "cell_type": "code",
   "execution_count": null,
   "metadata": {},
   "outputs": [],
   "source": [
    "from package.plotting_data import single_experiment_plot\n",
    "single_experiment_plot.main(\n",
    "    fileName = fileName,\n",
    "    PLOT_NAME = \"NETWORK\",\n",
    ")"
   ]
  },
  {
   "cell_type": "markdown",
   "metadata": {},
   "source": [
    "We identify identity bubbles or clusters that form in the model using a Gaussain density estimator and look at how the average link strength between members of those identity bubbles changes over time as bubbles merge.\n",
    "\n",
    "If you see what appears to be one identity bubble being identified as two, try raising the bandwidth."
   ]
  },
  {
   "cell_type": "code",
   "execution_count": null,
   "metadata": {},
   "outputs": [],
   "source": [
    "from package.plotting_data import single_experiment_plot\n",
    "single_experiment_plot.main(\n",
    "    fileName = fileName,\n",
    "    PLOT_NAME = \"CLUSTERING\",\n",
    "    bandwidth = 0.01\n",
    ")\n"
   ]
  },
  {
   "cell_type": "markdown",
   "metadata": {},
   "source": [
    "Next, let´s produce an animation of how the environmental identity and inter-agent weights changes over time. It will be easier to see dynamics in the animation for lower numbers of indviduals N, around 50 works well (lower K to keep a constant network density).\n",
    "\n",
    "If you would like to save the animation this requires the installation of FFMpegWriter see: https://holypython.com/how-to-save-matplotlib-animations-the-ultimate-guide/"
   ]
  },
  {
   "cell_type": "code",
   "execution_count": null,
   "metadata": {
    "scrolled": true
   },
   "outputs": [],
   "source": [
    "%matplotlib widget\n",
    "from package.plotting_data import single_experiment_plot\n",
    "anim = single_experiment_plot.main(\n",
    "    fileName = fileName,\n",
    "    PLOT_NAME = \"ANIMATION\",\n",
    "    animation_save_bool=0\n",
    ")"
   ]
  }
 ],
 "metadata": {
  "kernelspec": {
   "display_name": "venv",
   "language": "python",
   "name": "venv"
  },
  "language_info": {
   "codemirror_mode": {
    "name": "ipython",
    "version": 3
   },
   "file_extension": ".py",
   "mimetype": "text/x-python",
   "name": "python",
   "nbconvert_exporter": "python",
   "pygments_lexer": "ipython3",
   "version": "3.9.2"
  },
  "vscode": {
   "interpreter": {
    "hash": "33d2bf0625e63c84e06378aa53a9199ac5744707087a5b3a56c91a4a2e163319"
   }
  }
 },
 "nbformat": 4,
 "nbformat_minor": 2
}
