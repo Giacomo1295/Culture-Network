{
 "cells": [
  {
   "attachments": {},
   "cell_type": "markdown",
   "metadata": {},
   "source": [
    "Here we explore the effect of model components on a variety of outcomes. Please feel free to play around with it yourself!\n",
    "\n",
    "First we run a single experment, to do so we need to define the model run parameters."
   ]
  },
  {
   "cell_type": "code",
   "execution_count": 1,
   "metadata": {},
   "outputs": [],
   "source": [
    "base_params = {\n",
    "    \"save_timeseries_data\": 1, \n",
    "    \"degroot_aggregation\": 1,\n",
    "    \"network_structure\": \"small_world\",\n",
    "    \"alpha_change\" : 1.0,\n",
    "    \"guilty_individuals\": 0,\n",
    "    \"moral_licensing\": 0,\n",
    "    \"immutable_green_fountains\": 1,\n",
    "    \"polarisation_test\": 0,\n",
    "    \"total_time\": 3000,\n",
    "    \"delta_t\": 1.0,\n",
    "    \"phi_lower\": 0.01,\n",
    "    \"phi_upper\": 0.05,\n",
    "    \"compression_factor\": 10,\n",
    "    \"seed_list\": [1,2,3,4,5],\n",
    "    \"set_seed\": 2,\n",
    "    \"N\": 100,\n",
    "    \"M\": 3,\n",
    "    \"K\": 10,\n",
    "    \"prob_rewire\": 0.1,\n",
    "    \"culture_momentum_real\": 1000,\n",
    "    \"learning_error_scale\": 0.02,\n",
    "    \"discount_factor\": 0.95,\n",
    "    \"homophily\": 0.95,\n",
    "    \"homophilly_rate\" : 1,\n",
    "    \"confirmation_bias\": 20,\n",
    "    \"a_attitude\": 1,\n",
    "    \"b_attitude\": 1,\n",
    "    \"a_threshold\": 1,\n",
    "    \"b_threshold\": 1,\n",
    "    \"action_observation_I\": 0.0,\n",
    "    \"action_observation_S\": 0.0,\n",
    "    \"green_N\": 0,\n",
    "    \"guilty_individual_power\": 0\n",
    "}"
   ]
  },
  {
   "cell_type": "code",
   "execution_count": 2,
   "metadata": {},
   "outputs": [
    {
     "ename": "ModuleNotFoundError",
     "evalue": "No module named 'individuals'",
     "output_type": "error",
     "traceback": [
      "\u001b[1;31m---------------------------------------------------------------------------\u001b[0m",
      "\u001b[1;31mModuleNotFoundError\u001b[0m                       Traceback (most recent call last)",
      "Cell \u001b[1;32mIn[2], line 1\u001b[0m\n\u001b[1;32m----> 1\u001b[0m \u001b[39mfrom\u001b[39;00m \u001b[39mgenerating_data\u001b[39;00m \u001b[39mimport\u001b[39;00m single_experiment_gen\n\u001b[0;32m      2\u001b[0m fileName \u001b[39m=\u001b[39m single_experiment_gen\u001b[39m.\u001b[39mmain(\n\u001b[0;32m      3\u001b[0m     base_params \u001b[39m=\u001b[39m base_params\n\u001b[0;32m      4\u001b[0m )\n",
      "File \u001b[1;32mc:\\Users\\1621511\\Documents_temp\\Code\\Culture-Network\\generating_data\\single_experiment_gen.py:10\u001b[0m\n\u001b[0;32m      1\u001b[0m \u001b[39m\"\"\"Runs a single simulation to produce data which is saved\u001b[39;00m\n\u001b[0;32m      2\u001b[0m \u001b[39mA module that use dictionary of data for the simulation run. The single shot simualtion is run\u001b[39;00m\n\u001b[0;32m      3\u001b[0m \u001b[39mfor a given intial set seed.\u001b[39;00m\n\u001b[1;32m   (...)\u001b[0m\n\u001b[0;32m      7\u001b[0m \u001b[39mCreated: 10/10/2022\u001b[39;00m\n\u001b[0;32m      8\u001b[0m \u001b[39m\"\"\"\u001b[39;00m\n\u001b[0;32m      9\u001b[0m \u001b[39m# imports\u001b[39;00m\n\u001b[1;32m---> 10\u001b[0m \u001b[39mfrom\u001b[39;00m \u001b[39mresources\u001b[39;00m\u001b[39m.\u001b[39;00m\u001b[39mrun\u001b[39;00m \u001b[39mimport\u001b[39;00m generate_data\n\u001b[0;32m     11\u001b[0m \u001b[39mfrom\u001b[39;00m \u001b[39mresources\u001b[39;00m\u001b[39m.\u001b[39;00m\u001b[39mutility\u001b[39;00m \u001b[39mimport\u001b[39;00m (\n\u001b[0;32m     12\u001b[0m     createFolder, \n\u001b[0;32m     13\u001b[0m     save_object, \n\u001b[0;32m     14\u001b[0m     produce_name_datetime\n\u001b[0;32m     15\u001b[0m )\n\u001b[0;32m     17\u001b[0m \u001b[39mdef\u001b[39;00m \u001b[39mmain\u001b[39m(\n\u001b[0;32m     18\u001b[0m     base_params\n\u001b[0;32m     19\u001b[0m ) \u001b[39m-\u001b[39m\u001b[39m>\u001b[39m \u001b[39mstr\u001b[39m: \n",
      "File \u001b[1;32mc:\\Users\\1621511\\Documents_temp\\Code\\Culture-Network\\resources\\run.py:16\u001b[0m\n\u001b[0;32m     14\u001b[0m \u001b[39mfrom\u001b[39;00m \u001b[39mjoblib\u001b[39;00m \u001b[39mimport\u001b[39;00m Parallel, delayed\n\u001b[0;32m     15\u001b[0m \u001b[39mimport\u001b[39;00m \u001b[39mmultiprocessing\u001b[39;00m\n\u001b[1;32m---> 16\u001b[0m \u001b[39mfrom\u001b[39;00m \u001b[39mmodel\u001b[39;00m\u001b[39m.\u001b[39;00m\u001b[39mnetwork\u001b[39;00m \u001b[39mimport\u001b[39;00m Network\n\u001b[0;32m     17\u001b[0m \u001b[39mfrom\u001b[39;00m \u001b[39mresources\u001b[39;00m\u001b[39m.\u001b[39;00m\u001b[39mutility\u001b[39;00m \u001b[39mimport\u001b[39;00m calc_num_clusters_auto_bandwidth\n\u001b[0;32m     19\u001b[0m \u001b[39m# modules\u001b[39;00m\n\u001b[0;32m     20\u001b[0m \u001b[39m####SINGLE SHOT RUN\u001b[39;00m\n",
      "File \u001b[1;32mc:\\Users\\1621511\\Documents_temp\\Code\\Culture-Network\\model\\network.py:15\u001b[0m\n\u001b[0;32m     13\u001b[0m \u001b[39mimport\u001b[39;00m \u001b[39mnetworkx\u001b[39;00m \u001b[39mas\u001b[39;00m \u001b[39mnx\u001b[39;00m\n\u001b[0;32m     14\u001b[0m \u001b[39mimport\u001b[39;00m \u001b[39mnumpy\u001b[39;00m\u001b[39m.\u001b[39;00m\u001b[39mtyping\u001b[39;00m \u001b[39mas\u001b[39;00m \u001b[39mnpt\u001b[39;00m\n\u001b[1;32m---> 15\u001b[0m \u001b[39mfrom\u001b[39;00m \u001b[39mindividuals\u001b[39;00m \u001b[39mimport\u001b[39;00m Individual\n\u001b[0;32m     16\u001b[0m \u001b[39mfrom\u001b[39;00m \u001b[39mgreen_individuals\u001b[39;00m \u001b[39mimport\u001b[39;00m Green_individual\n\u001b[0;32m     17\u001b[0m \u001b[39mfrom\u001b[39;00m \u001b[39mgreen_fountains\u001b[39;00m \u001b[39mimport\u001b[39;00m Green_fountain\n",
      "\u001b[1;31mModuleNotFoundError\u001b[0m: No module named 'individuals'"
     ]
    }
   ],
   "source": [
    "from generating_data import single_experiment_gen\n",
    "fileName = single_experiment_gen.main(\n",
    "    base_params = base_params\n",
    ")"
   ]
  },
  {
   "attachments": {},
   "cell_type": "markdown",
   "metadata": {},
   "source": [
    "Next we produce a variety of plots relating to the dyanmics of indivduals"
   ]
  },
  {
   "cell_type": "code",
   "execution_count": null,
   "metadata": {},
   "outputs": [],
   "source": [
    "from plotting_data import single_experiment_plot\n",
    "single_experiment_plot.main(\n",
    "    fileName = fileName,\n",
    "    PLOT_NAME = \"INDIVIDUAL\",\n",
    ")"
   ]
  },
  {
   "attachments": {},
   "cell_type": "markdown",
   "metadata": {},
   "source": [
    "What about properties of the network as a whole?"
   ]
  },
  {
   "cell_type": "code",
   "execution_count": null,
   "metadata": {},
   "outputs": [],
   "source": [
    "from plotting_data import single_experiment_plot\n",
    "single_experiment_plot.main(\n",
    "    fileName = fileName,\n",
    "    PLOT_NAME = \"NETWORK\",\n",
    ")"
   ]
  },
  {
   "attachments": {},
   "cell_type": "markdown",
   "metadata": {},
   "source": [
    "Next, let´s produce an animation of how the environmental identity and inter-agent weighings changes over time.\n",
    "\n",
    "WARNING: If you would like to save the animation this requires the installation of FFMpegWriter see: https://holypython.com/how-to-save-matplotlib-animations-the-ultimate-guide/"
   ]
  },
  {
   "cell_type": "code",
   "execution_count": null,
   "metadata": {},
   "outputs": [],
   "source": [
    "from plotting_data import single_experiment_plot\n",
    "single_experiment_plot.main(\n",
    "    fileName = fileName,\n",
    "    PLOT_NAME = \"ANIMATION\",\n",
    "    animation_save_bool=0\n",
    ")"
   ]
  },
  {
   "attachments": {},
   "cell_type": "markdown",
   "metadata": {},
   "source": [
    "Finally, we identify identity bubbles or clusters that form in the model using a Gaussain density estimator."
   ]
  },
  {
   "cell_type": "code",
   "execution_count": null,
   "metadata": {},
   "outputs": [],
   "source": [
    "from plotting_data import single_experiment_plot\n",
    "single_experiment_plot.main(\n",
    "    fileName = fileName,\n",
    "    PLOT_NAME = \"CLUSTERING\",\n",
    ")"
   ]
  }
 ],
 "metadata": {
  "kernelspec": {
   "display_name": "venv",
   "language": "python",
   "name": "python3"
  },
  "language_info": {
   "codemirror_mode": {
    "name": "ipython",
    "version": 3
   },
   "file_extension": ".py",
   "mimetype": "text/x-python",
   "name": "python",
   "nbconvert_exporter": "python",
   "pygments_lexer": "ipython3",
   "version": "3.11.1"
  },
  "orig_nbformat": 4,
  "vscode": {
   "interpreter": {
    "hash": "33d2bf0625e63c84e06378aa53a9199ac5744707087a5b3a56c91a4a2e163319"
   }
  }
 },
 "nbformat": 4,
 "nbformat_minor": 2
}
